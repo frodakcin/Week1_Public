{
 "cells": [
  {
   "cell_type": "markdown",
   "metadata": {
    "colab_type": "text",
    "id": "bSU6eKZTdMXZ"
   },
   "source": [
    "# Pandas Problem Set"
   ]
  },
  {
   "cell_type": "code",
   "execution_count": 2,
   "metadata": {
    "colab": {},
    "colab_type": "code",
    "id": "c5ewTg7vdQFm"
   },
   "outputs": [],
   "source": [
    "import pandas as pd\n",
    "import numpy as np\n",
    "import matplotlib.pyplot as plt\n",
    "import statistics"
   ]
  },
  {
   "cell_type": "code",
   "execution_count": 3,
   "metadata": {
    "colab": {},
    "colab_type": "code",
    "id": "F4btIg8vdSyb"
   },
   "outputs": [],
   "source": [
    "url = \"https://raw.githubusercontent.com/BeaverWorksMedlytics2020/Data_Public/master/NotebookExampleData/Week1/diabetes.csv\"\n",
    "names = ['preg', 'plas', 'pres', 'skin', 'test', 'mass', 'pedi', 'age', 'class']\n"
   ]
  },
  {
   "cell_type": "markdown",
   "metadata": {
    "colab_type": "text",
    "id": "QOLgFaSKeShR"
   },
   "source": [
    "Read in csv above to a pandas dataframe"
   ]
  },
  {
   "cell_type": "code",
   "execution_count": 5,
   "metadata": {
    "colab": {},
    "colab_type": "code",
    "id": "Okcb8dnXeX2C"
   },
   "outputs": [],
   "source": [
    "# your code here\n",
    "data = pd.read_cvs(url, names=names)"
   ]
  },
  {
   "cell_type": "markdown",
   "metadata": {
    "colab_type": "text",
    "id": "d4DyOsuoewE2"
   },
   "source": [
    "Print out the age and class of the 100th patient"
   ]
  },
  {
   "cell_type": "code",
   "execution_count": 16,
   "metadata": {
    "colab": {},
    "colab_type": "code",
    "id": "xZqBsg39eY8_"
   },
   "outputs": [
    {
     "name": "stdout",
     "output_type": "stream",
     "text": [
      "31 1\n"
     ]
    }
   ],
   "source": [
    "print(data['age'][99], data['class'][99])"
   ]
  },
  {
   "cell_type": "markdown",
   "metadata": {
    "colab_type": "text",
    "id": "j8L2EM-5iOWc"
   },
   "source": [
    "Write code to figure out how many people are classified as not having diabetes, class is 0"
   ]
  },
  {
   "cell_type": "code",
   "execution_count": 17,
   "metadata": {
    "colab": {},
    "colab_type": "code",
    "id": "vohzS51WiWvD"
   },
   "outputs": [
    {
     "data": {
      "text/plain": [
       "500"
      ]
     },
     "execution_count": 17,
     "metadata": {},
     "output_type": "execute_result"
    }
   ],
   "source": [
    "# your code here\n",
    "(data['class']==0).sum()"
   ]
  },
  {
   "cell_type": "markdown",
   "metadata": {
    "colab_type": "text",
    "id": "ieGRz4iiiX4E"
   },
   "source": [
    "Write code to figure out how many people are classified as having diabetes, class is 1"
   ]
  },
  {
   "cell_type": "code",
   "execution_count": 18,
   "metadata": {
    "colab": {},
    "colab_type": "code",
    "id": "-jq2O-vriXRT"
   },
   "outputs": [
    {
     "data": {
      "text/plain": [
       "268"
      ]
     },
     "execution_count": 18,
     "metadata": {},
     "output_type": "execute_result"
    }
   ],
   "source": [
    "# your code here\n",
    "(data['class']==1).sum()"
   ]
  },
  {
   "cell_type": "markdown",
   "metadata": {
    "colab_type": "text",
    "id": "oeFT7T9OnuSd"
   },
   "source": [
    "What percent of people have diabetes in the study"
   ]
  },
  {
   "cell_type": "code",
   "execution_count": 19,
   "metadata": {
    "colab": {},
    "colab_type": "code",
    "id": "zGGHptFYnwq0"
   },
   "outputs": [
    {
     "data": {
      "text/plain": [
       "34.895833333333336"
      ]
     },
     "execution_count": 19,
     "metadata": {},
     "output_type": "execute_result"
    }
   ],
   "source": [
    "# your code here\n",
    "(data['class']==1).sum()*100/data.shape[0]"
   ]
  },
  {
   "cell_type": "markdown",
   "metadata": {
    "colab_type": "text",
    "id": "nbrjnRPafs0p"
   },
   "source": [
    "Print out the pressure and class (no other columns) for the first 5 people (hint: this was not shown in our tutorial google how to select multiple columns with loc)\n",
    "\n",
    "Being able to effectively google is a very important coding tool ¯\\\\\\_(ツ)_/¯"
   ]
  },
  {
   "cell_type": "code",
   "execution_count": 25,
   "metadata": {
    "colab": {},
    "colab_type": "code",
    "id": "GiNCJ19KfHJQ"
   },
   "outputs": [
    {
     "name": "stdout",
     "output_type": "stream",
     "text": [
      "   preg  plas  pres  skin  test  mass   pedi  age  class\n",
      "0     6   148    72    35     0  33.6  0.627   50      1\n",
      "1     1    85    66    29     0  26.6  0.351   31      0\n",
      "2     8   183    64     0     0  23.3  0.672   32      1\n",
      "3     1    89    66    23    94  28.1  0.167   21      0\n",
      "4     0   137    40    35   168  43.1  2.288   33      1\n"
     ]
    }
   ],
   "source": [
    "# your code here\n",
    "print(data.head())\n",
    "\n",
    "# print(data[:5])"
   ]
  },
  {
   "cell_type": "markdown",
   "metadata": {
    "colab_type": "text",
    "id": "O-CcsoqlhxUn"
   },
   "source": [
    "Run the cell below, it will print out the correlation among the columns"
   ]
  },
  {
   "cell_type": "code",
   "execution_count": 21,
   "metadata": {
    "colab": {},
    "colab_type": "code",
    "id": "pXpVFt6MffQt"
   },
   "outputs": [
    {
     "data": {
      "text/html": [
       "<div>\n",
       "<style scoped>\n",
       "    .dataframe tbody tr th:only-of-type {\n",
       "        vertical-align: middle;\n",
       "    }\n",
       "\n",
       "    .dataframe tbody tr th {\n",
       "        vertical-align: top;\n",
       "    }\n",
       "\n",
       "    .dataframe thead th {\n",
       "        text-align: right;\n",
       "    }\n",
       "</style>\n",
       "<table border=\"1\" class=\"dataframe\">\n",
       "  <thead>\n",
       "    <tr style=\"text-align: right;\">\n",
       "      <th></th>\n",
       "      <th>preg</th>\n",
       "      <th>plas</th>\n",
       "      <th>pres</th>\n",
       "      <th>skin</th>\n",
       "      <th>test</th>\n",
       "      <th>mass</th>\n",
       "      <th>pedi</th>\n",
       "      <th>age</th>\n",
       "      <th>class</th>\n",
       "    </tr>\n",
       "  </thead>\n",
       "  <tbody>\n",
       "    <tr>\n",
       "      <th>preg</th>\n",
       "      <td>1.000000</td>\n",
       "      <td>0.129459</td>\n",
       "      <td>0.141282</td>\n",
       "      <td>-0.081672</td>\n",
       "      <td>-0.073535</td>\n",
       "      <td>0.017683</td>\n",
       "      <td>-0.033523</td>\n",
       "      <td>0.544341</td>\n",
       "      <td>0.221898</td>\n",
       "    </tr>\n",
       "    <tr>\n",
       "      <th>plas</th>\n",
       "      <td>0.129459</td>\n",
       "      <td>1.000000</td>\n",
       "      <td>0.152590</td>\n",
       "      <td>0.057328</td>\n",
       "      <td>0.331357</td>\n",
       "      <td>0.221071</td>\n",
       "      <td>0.137337</td>\n",
       "      <td>0.263514</td>\n",
       "      <td>0.466581</td>\n",
       "    </tr>\n",
       "    <tr>\n",
       "      <th>pres</th>\n",
       "      <td>0.141282</td>\n",
       "      <td>0.152590</td>\n",
       "      <td>1.000000</td>\n",
       "      <td>0.207371</td>\n",
       "      <td>0.088933</td>\n",
       "      <td>0.281805</td>\n",
       "      <td>0.041265</td>\n",
       "      <td>0.239528</td>\n",
       "      <td>0.065068</td>\n",
       "    </tr>\n",
       "    <tr>\n",
       "      <th>skin</th>\n",
       "      <td>-0.081672</td>\n",
       "      <td>0.057328</td>\n",
       "      <td>0.207371</td>\n",
       "      <td>1.000000</td>\n",
       "      <td>0.436783</td>\n",
       "      <td>0.392573</td>\n",
       "      <td>0.183928</td>\n",
       "      <td>-0.113970</td>\n",
       "      <td>0.074752</td>\n",
       "    </tr>\n",
       "    <tr>\n",
       "      <th>test</th>\n",
       "      <td>-0.073535</td>\n",
       "      <td>0.331357</td>\n",
       "      <td>0.088933</td>\n",
       "      <td>0.436783</td>\n",
       "      <td>1.000000</td>\n",
       "      <td>0.197859</td>\n",
       "      <td>0.185071</td>\n",
       "      <td>-0.042163</td>\n",
       "      <td>0.130548</td>\n",
       "    </tr>\n",
       "    <tr>\n",
       "      <th>mass</th>\n",
       "      <td>0.017683</td>\n",
       "      <td>0.221071</td>\n",
       "      <td>0.281805</td>\n",
       "      <td>0.392573</td>\n",
       "      <td>0.197859</td>\n",
       "      <td>1.000000</td>\n",
       "      <td>0.140647</td>\n",
       "      <td>0.036242</td>\n",
       "      <td>0.292695</td>\n",
       "    </tr>\n",
       "    <tr>\n",
       "      <th>pedi</th>\n",
       "      <td>-0.033523</td>\n",
       "      <td>0.137337</td>\n",
       "      <td>0.041265</td>\n",
       "      <td>0.183928</td>\n",
       "      <td>0.185071</td>\n",
       "      <td>0.140647</td>\n",
       "      <td>1.000000</td>\n",
       "      <td>0.033561</td>\n",
       "      <td>0.173844</td>\n",
       "    </tr>\n",
       "    <tr>\n",
       "      <th>age</th>\n",
       "      <td>0.544341</td>\n",
       "      <td>0.263514</td>\n",
       "      <td>0.239528</td>\n",
       "      <td>-0.113970</td>\n",
       "      <td>-0.042163</td>\n",
       "      <td>0.036242</td>\n",
       "      <td>0.033561</td>\n",
       "      <td>1.000000</td>\n",
       "      <td>0.238356</td>\n",
       "    </tr>\n",
       "    <tr>\n",
       "      <th>class</th>\n",
       "      <td>0.221898</td>\n",
       "      <td>0.466581</td>\n",
       "      <td>0.065068</td>\n",
       "      <td>0.074752</td>\n",
       "      <td>0.130548</td>\n",
       "      <td>0.292695</td>\n",
       "      <td>0.173844</td>\n",
       "      <td>0.238356</td>\n",
       "      <td>1.000000</td>\n",
       "    </tr>\n",
       "  </tbody>\n",
       "</table>\n",
       "</div>"
      ],
      "text/plain": [
       "           preg      plas      pres      skin      test      mass      pedi  \\\n",
       "preg   1.000000  0.129459  0.141282 -0.081672 -0.073535  0.017683 -0.033523   \n",
       "plas   0.129459  1.000000  0.152590  0.057328  0.331357  0.221071  0.137337   \n",
       "pres   0.141282  0.152590  1.000000  0.207371  0.088933  0.281805  0.041265   \n",
       "skin  -0.081672  0.057328  0.207371  1.000000  0.436783  0.392573  0.183928   \n",
       "test  -0.073535  0.331357  0.088933  0.436783  1.000000  0.197859  0.185071   \n",
       "mass   0.017683  0.221071  0.281805  0.392573  0.197859  1.000000  0.140647   \n",
       "pedi  -0.033523  0.137337  0.041265  0.183928  0.185071  0.140647  1.000000   \n",
       "age    0.544341  0.263514  0.239528 -0.113970 -0.042163  0.036242  0.033561   \n",
       "class  0.221898  0.466581  0.065068  0.074752  0.130548  0.292695  0.173844   \n",
       "\n",
       "            age     class  \n",
       "preg   0.544341  0.221898  \n",
       "plas   0.263514  0.466581  \n",
       "pres   0.239528  0.065068  \n",
       "skin  -0.113970  0.074752  \n",
       "test  -0.042163  0.130548  \n",
       "mass   0.036242  0.292695  \n",
       "pedi   0.033561  0.173844  \n",
       "age    1.000000  0.238356  \n",
       "class  0.238356  1.000000  "
      ]
     },
     "execution_count": 21,
     "metadata": {},
     "output_type": "execute_result"
    }
   ],
   "source": [
    "data.corr()"
   ]
  },
  {
   "cell_type": "markdown",
   "metadata": {
    "colab_type": "text",
    "id": "P_7xRF11h4Uf"
   },
   "source": [
    "What column has the highest correlation with class? Find the mean() value of that column"
   ]
  },
  {
   "cell_type": "code",
   "execution_count": 28,
   "metadata": {
    "colab": {},
    "colab_type": "code",
    "id": "clb2Gh8Mn9d4"
   },
   "outputs": [
    {
     "name": "stdout",
     "output_type": "stream",
     "text": [
      "120.89453125\n"
     ]
    }
   ],
   "source": [
    "# your code here\n",
    "\n",
    "# plas\n",
    "\n",
    "plasmean = data['plas'].mean();\n",
    "print(plasmean)"
   ]
  },
  {
   "cell_type": "markdown",
   "metadata": {
    "colab_type": "text",
    "id": "64yWhAARoWw-"
   },
   "source": [
    "Create a new dataframe with only people that are above the mean found above"
   ]
  },
  {
   "cell_type": "code",
   "execution_count": 29,
   "metadata": {
    "colab": {},
    "colab_type": "code",
    "id": "HRLjs3agkdPY"
   },
   "outputs": [],
   "source": [
    "# your code here\n",
    "\n",
    "data2 = data[data.plas>plasmean]"
   ]
  },
  {
   "cell_type": "markdown",
   "metadata": {
    "colab_type": "text",
    "id": "RxGIQp0JrUnq"
   },
   "source": [
    "Create a new dataframe that only includes people who are above the average value for each column in the dataset (except 'class'). In other words, find the average value for each column, and then find which users have values above all of these average column values"
   ]
  },
  {
   "cell_type": "code",
   "execution_count": 42,
   "metadata": {
    "colab": {},
    "colab_type": "code",
    "id": "Ylf4p6NNrfME"
   },
   "outputs": [
    {
     "name": "stdout",
     "output_type": "stream",
     "text": [
      "     preg  plas  pres  skin  test  mass   pedi  age  class\n",
      "43      9   171   110    24   240  45.4  0.721   54      1\n",
      "152     9   156    86    28   155  34.3  1.189   42      1\n",
      "159    17   163    72    41   114  40.9  0.817   47      1\n",
      "175     8   179    72    42   130  32.7  0.719   36      1\n",
      "206     8   196    76    29   280  37.5  0.605   57      1\n",
      "215    12   151    70    40   271  41.8  0.742   38      1\n",
      "236     7   181    84    21   192  35.9  0.586   51      1\n",
      "259    11   155    76    28   150  33.3  1.353   51      1\n",
      "286     5   155    84    44   545  38.7  0.619   34      0\n",
      "375    12   140    82    43   325  39.2  0.528   58      1\n",
      "424     8   151    78    32   210  42.9  0.516   36      1\n",
      "458    10   148    84    48   237  37.6  1.001   51      1\n",
      "546     5   187    76    27   207  43.6  1.034   53      1\n",
      "594     6   123    72    45   230  33.6  0.733   34      0\n",
      "603     7   150    78    29   126  35.2  0.692   54      1\n",
      "612     7   168    88    42   321  38.2  0.787   40      1\n",
      "614    11   138    74    26   144  36.1  0.557   50      1\n",
      "663     9   145    80    46   130  37.9  0.637   40      1\n",
      "744    13   153    88    37   140  40.6  1.174   39      0\n"
     ]
    }
   ],
   "source": [
    "# write code here\n",
    "means = {}\n",
    "for i in names:\n",
    "    if i!='class':\n",
    "        means[i] = data[i].mean()\n",
    "ok = np.ndarray((data.shape[0]), dtype=bool)\n",
    "ok.fill(True)\n",
    "\n",
    "for i in names:\n",
    "    if i!='class':\n",
    "        ok = ok & (data[i]>means[i])\n",
    "\n",
    "data3 = data[ok]\n",
    "print(data3)"
   ]
  },
  {
   "cell_type": "markdown",
   "metadata": {
    "colab_type": "text",
    "id": "24pCgP2xbCwZ"
   },
   "source": [
    "Ignoring the index (resetting the index to 0), sort the values based on \"skin\", \"test\", and \"pedi\" values in ascending order. Please write this in one line."
   ]
  },
  {
   "cell_type": "code",
   "execution_count": 49,
   "metadata": {
    "colab": {},
    "colab_type": "code",
    "id": "wXZysbVwa7i5"
   },
   "outputs": [
    {
     "name": "stdout",
     "output_type": "stream",
     "text": [
      "     preg  plas  pres  skin  test  mass   pedi  age  class\n",
      "268     0   102    52     0     0  25.1  0.078   21      0\n",
      "180     6    87    80     0     0  23.2  0.084   32      0\n",
      "598     1   173    74     0     0  36.8  0.088   38      1\n",
      "81      2    74     0     0     0   0.0  0.102   22      0\n",
      "430     2    99     0     0     0  22.2  0.108   23      0\n",
      "..    ...   ...   ...   ...   ...   ...    ...  ...    ...\n",
      "211     0   147    85    54     0  42.8  0.375   24      0\n",
      "120     0   162    76    56   100  53.2  0.759   25      1\n",
      "57      0   100    88    60   110  46.8  0.962   31      0\n",
      "445     0   180    78    63    14  59.4  2.420   25      1\n",
      "579     2   197    70    99     0  34.7  0.575   62      1\n",
      "\n",
      "[768 rows x 9 columns]\n"
     ]
    }
   ],
   "source": [
    "# write code here\n",
    "\n",
    "data4 = data\n",
    "# sample = filtered_dataframe_age_preg.sort_values(by='preg', ascending=False, na_position='first') #descending order\n",
    "\n",
    "print(data4.sort_values(by=['skin', 'test', 'pedi'], ascending=True))\n",
    "# print(data4.sort_values(by='test', ascending=True))\n",
    "# print(data4.sort_values(by='pedi', ascending=True))"
   ]
  },
  {
   "cell_type": "markdown",
   "metadata": {
    "colab_type": "text",
    "id": "hUs7viD6gSPT"
   },
   "source": [
    "Notice that there are some repeats in values (like in the age and the preg column). "
   ]
  },
  {
   "cell_type": "markdown",
   "metadata": {
    "colab_type": "text",
    "id": "BIJkXsK4ch-u"
   },
   "source": [
    "Now Let's find the 4 largest values for \"age\" and \"mass\". Reference the pandas documentation (https://pandas.pydata.org/docs/) if you are stuck!"
   ]
  },
  {
   "cell_type": "code",
   "execution_count": 58,
   "metadata": {
    "colab": {},
    "colab_type": "code",
    "id": "kSl28jLLdAF9"
   },
   "outputs": [
    {
     "name": "stdout",
     "output_type": "stream",
     "text": [
      "     preg  plas  pres  skin  test  mass   pedi  age  class\n",
      "459     9   134    74    33    60  25.9  0.460   81      0\n",
      "453     2   119     0     0     0  19.6  0.832   72      0\n",
      "666     4   145    82    18     0  32.5  0.235   70      1\n",
      "123     5   132    80     0     0  26.8  0.186   69      0\n"
     ]
    }
   ],
   "source": [
    "# write code here\n",
    "\n",
    "print(data.nlargest(4, columns=['age', 'mass']))"
   ]
  },
  {
   "cell_type": "markdown",
   "metadata": {
    "colab_type": "text",
    "id": "fJRwe8UfqvNG"
   },
   "source": [
    "Now find the smallest 4 values for \"plas\" and \"preg\" in reverse order (largest to smallest). Please refer to the API documentation if you are stuck-- https://pandas.pydata.org/pandas-docs/stable/reference/index.html"
   ]
  },
  {
   "cell_type": "code",
   "execution_count": 61,
   "metadata": {
    "colab": {},
    "colab_type": "code",
    "id": "icQcbPg1quNI"
   },
   "outputs": [
    {
     "name": "stdout",
     "output_type": "stream",
     "text": [
      "     preg  plas  pres  skin  test  mass   pedi  age  class\n",
      "349     5     0    80    32     0  41.0  0.346   37      1\n",
      "342     1     0    68    35     0  32.0  0.389   22      0\n",
      "182     1     0    74    20    23  27.7  0.299   21      0\n",
      "75      1     0    48    20     0  24.7  0.140   22      0\n"
     ]
    }
   ],
   "source": [
    "#write code here\n",
    "\n",
    "print(data.nsmallest(4, columns=['plas', 'preg'])[::-1])"
   ]
  },
  {
   "cell_type": "code",
   "execution_count": null,
   "metadata": {},
   "outputs": [],
   "source": []
  }
 ],
 "metadata": {
  "colab": {
   "collapsed_sections": [],
   "name": "FullyUpdatedPandasProblemSets.ipynb",
   "provenance": []
  },
  "kernelspec": {
   "display_name": "Python 3",
   "language": "python",
   "name": "python3"
  },
  "language_info": {
   "codemirror_mode": {
    "name": "ipython",
    "version": 3
   },
   "file_extension": ".py",
   "mimetype": "text/x-python",
   "name": "python",
   "nbconvert_exporter": "python",
   "pygments_lexer": "ipython3",
   "version": "3.7.7"
  }
 },
 "nbformat": 4,
 "nbformat_minor": 1
}
