{
 "cells": [
  {
   "cell_type": "markdown",
   "metadata": {
    "colab_type": "text",
    "id": "-UimMCmGe19F"
   },
   "source": [
    "# SVM Tree Worksheet"
   ]
  },
  {
   "cell_type": "code",
   "execution_count": 27,
   "metadata": {
    "colab": {
     "autoexec": {
      "startup": false,
      "wait_interval": 0
     }
    },
    "colab_type": "code",
    "id": "kedW02LgKjVL"
   },
   "outputs": [],
   "source": [
    "import numpy as np\n",
    "import pandas as pd\n",
    "from sklearn.model_selection import train_test_split\n",
    "import matplotlib.pyplot as plt\n",
    "from sklearn import svm\n",
    "from sklearn.metrics import accuracy_score\n",
    "from sklearn.svm import SVC\n",
    "from sklearn.ensemble import RandomForestClassifier"
   ]
  },
  {
   "cell_type": "markdown",
   "metadata": {},
   "source": [
    "## Loading data\n",
    "\n",
    "Load Pima diabetes dataset and split data, with test size being 25% and validation 20%."
   ]
  },
  {
   "cell_type": "code",
   "execution_count": 14,
   "metadata": {
    "colab": {
     "autoexec": {
      "startup": false,
      "wait_interval": 0
     }
    },
    "colab_type": "code",
    "id": "Ydh9gmDkMGmu"
   },
   "outputs": [],
   "source": [
    "url = \"https://raw.githubusercontent.com/jbrownlee/Datasets/master/pima-indians-diabetes.data.csv\"\n",
    "names = ['preg', 'plas', 'pres', 'skin', 'test', 'mass', 'pedi', 'age', 'class']\n",
    "\n",
    "## YOUR CODE HERE\n",
    "# globals\n",
    "data_raw = pd.read_csv(url, names=names)\n",
    "# print(data_raw)\n",
    "\n",
    "X_train, X_val, y_train, y_val = train_test_split(data_raw[names[:-1]], data_raw[names[-1]], test_size=0.15, random_state=0)"
   ]
  },
  {
   "cell_type": "markdown",
   "metadata": {},
   "source": [
    "## Creating Model"
   ]
  },
  {
   "cell_type": "markdown",
   "metadata": {},
   "source": [
    "Create a model with sklearn's SVC and a high gamma value"
   ]
  },
  {
   "cell_type": "code",
   "execution_count": 18,
   "metadata": {
    "colab": {
     "autoexec": {
      "startup": false,
      "wait_interval": 0
     },
     "base_uri": "https://localhost:8080/",
     "height": 17
    },
    "colab_type": "code",
    "executionInfo": {
     "elapsed": 461,
     "status": "ok",
     "timestamp": 1530818060882,
     "user": {
      "displayName": "john passarelli",
      "photoUrl": "https://lh3.googleusercontent.com/a/default-user=s128",
      "userId": "102241934905781120798"
     },
     "user_tz": 240
    },
    "id": "9rYQecrQ8yjn",
    "outputId": "7c3953aa-4b8a-4abc-9ecd-3950785040a0"
   },
   "outputs": [],
   "source": [
    "## YOUR CODE HERE\n",
    "\n",
    "def SVC_high_gamma():\n",
    "    model = SVC(gamma=999, C=1)\n",
    "    model.fit(X_train, y_train)\n",
    "    return model"
   ]
  },
  {
   "cell_type": "markdown",
   "metadata": {
    "colab_type": "text",
    "id": "qdiqjUje4ll-"
   },
   "source": [
    "Print accuracy of training and validation data"
   ]
  },
  {
   "cell_type": "code",
   "execution_count": 20,
   "metadata": {
    "colab": {
     "autoexec": {
      "startup": false,
      "wait_interval": 0
     },
     "base_uri": "https://localhost:8080/",
     "height": 37
    },
    "colab_type": "code",
    "executionInfo": {
     "elapsed": 247,
     "status": "ok",
     "timestamp": 1530818139090,
     "user": {
      "displayName": "john passarelli",
      "photoUrl": "https://lh3.googleusercontent.com/a/default-user=s128",
      "userId": "102241934905781120798"
     },
     "user_tz": 240
    },
    "id": "O5LqepHk9S0M",
    "outputId": "746a2735-28a3-4916-fe03-d677b0769128"
   },
   "outputs": [
    {
     "name": "stdout",
     "output_type": "stream",
     "text": [
      "Test Accuracy: 1.0\n",
      "Val Accuracy:  0.6724137931034483\n"
     ]
    }
   ],
   "source": [
    "## YOUR CODE HERE\n",
    "\n",
    "def solve_high():\n",
    "    model = SVC_high_gamma()\n",
    "    print(\"Test Accuracy: {}\".format(accuracy_score(y_train, model.predict(X_train))))\n",
    "    print(\"Val Accuracy:  {}\".format(accuracy_score(y_val,   model.predict(X_val  ))))\n",
    "solve_high()"
   ]
  },
  {
   "cell_type": "markdown",
   "metadata": {
    "colab_type": "text",
    "id": "fC7VlLtI3ZjQ"
   },
   "source": [
    "Create a model with sklearn's SVC and a low gamma value"
   ]
  },
  {
   "cell_type": "code",
   "execution_count": 58,
   "metadata": {
    "colab": {
     "autoexec": {
      "startup": false,
      "wait_interval": 0
     },
     "base_uri": "https://localhost:8080/",
     "height": 37
    },
    "colab_type": "code",
    "executionInfo": {
     "elapsed": 232,
     "status": "ok",
     "timestamp": 1530818139820,
     "user": {
      "displayName": "john passarelli",
      "photoUrl": "https://lh3.googleusercontent.com/a/default-user=s128",
      "userId": "102241934905781120798"
     },
     "user_tz": 240
    },
    "id": "3vVHnWuY9pFN",
    "outputId": "fb7c8c19-28ae-4f3b-f829-e6ca832c12a6"
   },
   "outputs": [],
   "source": [
    "## YOUR CODE HERE\n",
    "\n",
    "def SVC_low_gamma():\n",
    "    model = SVC(gamma=0.0001, C=1)\n",
    "    model.fit(X_train, y_train)\n",
    "    return model"
   ]
  },
  {
   "cell_type": "markdown",
   "metadata": {
    "colab_type": "text",
    "id": "JQB-U50H4mIx"
   },
   "source": [
    "Print accuracy of training and validation data"
   ]
  },
  {
   "cell_type": "code",
   "execution_count": 59,
   "metadata": {
    "colab": {
     "autoexec": {
      "startup": false,
      "wait_interval": 0
     },
     "base_uri": "https://localhost:8080/",
     "height": 17
    },
    "colab_type": "code",
    "executionInfo": {
     "elapsed": 229,
     "status": "ok",
     "timestamp": 1530818147922,
     "user": {
      "displayName": "john passarelli",
      "photoUrl": "https://lh3.googleusercontent.com/a/default-user=s128",
      "userId": "102241934905781120798"
     },
     "user_tz": 240
    },
    "id": "tr4DGB309s9a",
    "outputId": "5ce865e1-7b82-4ef3-91ab-dc4eca7d541c"
   },
   "outputs": [
    {
     "name": "stdout",
     "output_type": "stream",
     "text": [
      "Test Accuracy: 0.7653374233128835\n",
      "Val Accuracy:  0.8189655172413793\n"
     ]
    }
   ],
   "source": [
    "## YOUR CODE HERE\n",
    "\n",
    "def solve_low():\n",
    "    model = SVC_low_gamma()\n",
    "    print(\"Test Accuracy: {}\".format(accuracy_score(y_train, model.predict(X_train))))\n",
    "    print(\"Val Accuracy:  {}\".format(accuracy_score(y_val,   model.predict(X_val  ))))\n",
    "solve_low()"
   ]
  },
  {
   "cell_type": "markdown",
   "metadata": {
    "colab_type": "text",
    "id": "TA9xLHAEIKXY"
   },
   "source": [
    "Explain the accuracy results below. \n",
    "\n",
    "High gamma caused data to overfit; Low gamma is more generalized in this case"
   ]
  },
  {
   "cell_type": "markdown",
   "metadata": {},
   "source": [
    "## Metrics\n",
    "\n",
    "Print the confusion matrices (both numeric and visualized)"
   ]
  },
  {
   "cell_type": "code",
   "execution_count": 60,
   "metadata": {},
   "outputs": [
    {
     "name": "stdout",
     "output_type": "stream",
     "text": [
      "High Gamma\n",
      "True Positive: 0\n",
      "True Negative: 78\n",
      "False Positive: 0\n",
      "False Negative: 38\n"
     ]
    },
    {
     "data": {
      "image/png": "[encoded data removed]",
      "text/plain": [
       "<Figure size 432x288 with 2 Axes>"
      ]
     },
     "metadata": {
      "needs_background": "light"
     },
     "output_type": "display_data"
    },
    {
     "data": {
      "image/png": "[encoded data removed]",
      "text/plain": [
       "<Figure size 432x288 with 2 Axes>"
      ]
     },
     "metadata": {
      "needs_background": "light"
     },
     "output_type": "display_data"
    },
    {
     "name": "stdout",
     "output_type": "stream",
     "text": [
      "Low Gamma\n",
      "True Positive: 24\n",
      "True Negative: 71\n",
      "False Positive: 7\n",
      "False Negative: 14\n"
     ]
    },
    {
     "data": {
      "image/png": "[encoded data removed]",
      "text/plain": [
       "<Figure size 432x288 with 2 Axes>"
      ]
     },
     "metadata": {
      "needs_background": "light"
     },
     "output_type": "display_data"
    },
    {
     "data": {
      "image/png": "[encoded data removed]",
      "text/plain": [
       "<Figure size 432x288 with 2 Axes>"
      ]
     },
     "metadata": {
      "needs_background": "light"
     },
     "output_type": "display_data"
    }
   ],
   "source": [
    "## Confusion matrices\n",
    "\n",
    "## YOUR CODE HERE\n",
    "\n",
    "# still X_train, y_train, X_val, y_val\n",
    "\n",
    "# Copied (and modified) from Tutorial\n",
    "def plot_cmatrix(cm,labels=[0,1],title='Confusion Matrix'):\n",
    "  fig = plt.figure()\n",
    "  ax = fig.add_subplot(111)\n",
    "  cax = ax.matshow(cm,cmap='Reds')\n",
    "  plt.title('\\n'+title+'\\n', fontsize=20)\n",
    "  fig.colorbar(cax)\n",
    "  ax.set_xticklabels([''] + labels, fontsize=16)\n",
    "  ax.set_yticklabels([''] + labels, fontsize=16)\n",
    "  plt.xlabel('Predicted', fontsize=16)\n",
    "  plt.ylabel('True', fontsize=16)\n",
    "  plt.show()\n",
    "\n",
    "def solve_Metrics(model, scaled=False):\n",
    "    y_val_pred = model.predict(X_val)\n",
    "    \n",
    "    TP = ((y_val == 1) & (y_val_pred == 1)).sum()\n",
    "    TN = ((y_val == 0) & (y_val_pred == 0)).sum()\n",
    "    FP = ((y_val == 0) & (y_val_pred == 1)).sum()\n",
    "    FN = ((y_val == 1) & (y_val_pred == 0)).sum()\n",
    "    \n",
    "    print(\"True Positive:\", TP)\n",
    "    print(\"True Negative:\", TN)\n",
    "    print(\"False Positive:\", FP)\n",
    "    print(\"False Negative:\", FN)\n",
    "    \n",
    "    plot_cmatrix([[TN, FP],[FN, TP]])\n",
    "    plot_cmatrix([[TN/(TN+FP), FP/(TN+FP)],[FN/(FN+TP), TP/(FN+TP)]], title=\"Normalized Confusion Matrix\")\n",
    "print(\"High Gamma\")\n",
    "solve_Metrics(SVC_high_gamma())\n",
    "print(\"Low Gamma\")\n",
    "solve_Metrics(SVC_low_gamma())"
   ]
  },
  {
   "cell_type": "code",
   "execution_count": null,
   "metadata": {},
   "outputs": [],
   "source": []
  }
 ],
 "metadata": {
  "colab": {
   "collapsed_sections": [],
   "default_view": {},
   "name": "SVMWorksheetStudent",
   "provenance": [
    {
     "file_id": "165CSmT99w4_Sv1UENIyvIkH7ZEw2Xeh8",
     "timestamp": 1527780043079
    }
   ],
   "version": "0.3.2",
   "views": {}
  },
  "kernelspec": {
   "display_name": "Python 3",
   "language": "python",
   "name": "python3"
  },
  "language_info": {
   "codemirror_mode": {
    "name": "ipython",
    "version": 3
   },
   "file_extension": ".py",
   "mimetype": "text/x-python",
   "name": "python",
   "nbconvert_exporter": "python",
   "pygments_lexer": "ipython3",
   "version": "3.7.7"
  }
 },
 "nbformat": 4,
 "nbformat_minor": 1
}
