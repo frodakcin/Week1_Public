{
 "cells": [
  {
   "cell_type": "markdown",
   "metadata": {
    "colab_type": "text",
    "id": "xTfQvqbXr9G1"
   },
   "source": [
    "# Regression Exercises"
   ]
  },
  {
   "cell_type": "markdown",
   "metadata": {},
   "source": [
    "## Linear"
   ]
  },
  {
   "cell_type": "code",
   "execution_count": 1,
   "metadata": {
    "colab": {},
    "colab_type": "code",
    "id": "VohVqdqmr9G3"
   },
   "outputs": [],
   "source": [
    "# Loading data\n",
    "import pandas as pd\n",
    "import numpy as np\n",
    "from matplotlib import pyplot as plt\n",
    "\n",
    "# Read data from Github\n",
    "data_url = \"https://raw.githubusercontent.com/BeaverWorksMedlytics2020/Data_Public/master/NotebookExampleData/Week1/ex1data2.txt\"\n",
    "data_array = np.genfromtxt(data_url, delimiter=',')\n",
    "\n",
    "# The columns in this data set are define as folows:\n",
    "\"\"\"\n",
    "    0 = floor area\n",
    "    1 = number of bedrooms\n",
    "    2 = sale price\n",
    "\"\"\"\n",
    "    \n",
    "# store the relevant columns in more descriptive variables\n",
    "x_sqft = data_array[:,0]\n",
    "y_value = data_array[:,2]"
   ]
  },
  {
   "cell_type": "markdown",
   "metadata": {
    "colab_type": "text",
    "id": "bubHPtJ5r9G-"
   },
   "source": [
    "Here we'll build off of the tutorial exercise, first finding the best linear fit for floor area (sqft) vs valued price (USD). Recall that setting the derivative = 0 and solving for 𝑏 & 𝑚 produces formula for the best fit trend:\n",
    "$$ m = \\frac{\\sum^n_{i=1} (x_i-x_{mean})(y_i-y_{mean})}{\\sum^n_{i=1} (x_i-x_{mean})^2} $$\n",
    "$$ b = y_{mean}-m*x_{mean} $$"
   ]
  },
  {
   "cell_type": "code",
   "execution_count": 4,
   "metadata": {
    "colab": {},
    "colab_type": "code",
    "id": "HaPeEPN8r9HA"
   },
   "outputs": [],
   "source": [
    "def find_best_fit(xx,yy):\n",
    "    '''\n",
    "      This function finds the best linear fit for yy vs xx\n",
    "    '''\n",
    "    ux,uy=xx.mean(),yy.mean()\n",
    "    m=sum((xx[i]-ux)*(yy[i]-uy) for i in range(len(xx)))/sum([(i-ux)**2 for i in xx])\n",
    "    b=uy-m*ux\n",
    "    return (m,b)\n",
    "    ## YOUR CODE HERE"
   ]
  },
  {
   "cell_type": "code",
   "execution_count": 5,
   "metadata": {
    "colab": {},
    "colab_type": "code",
    "id": "mfZ7t4F9r9HH"
   },
   "outputs": [
    {
     "name": "stdout",
     "output_type": "stream",
     "text": [
      "y = 134.5x + 71270.5\n"
     ]
    }
   ],
   "source": [
    "# Use your function to show the best fit values for our data\n",
    "(mm,bb) = find_best_fit(x_sqft, y_value)\n",
    "fit_str = 'y = {aa:.1f}x + {bb:.1f}'\n",
    "print(fit_str.format(aa=mm,bb=bb))"
   ]
  },
  {
   "cell_type": "markdown",
   "metadata": {
    "colab_type": "text",
    "id": "jVYEfrpsr9HN"
   },
   "source": [
    "Now we have the best fit trend line that minimizes total error for our data, let's try plotting it and see what it looks like. Since its just an equation, we need to *sample* the curve in order to plot it. To do this, we'll find the difference between the largest and smallest floor area, and divide it into 100 sample points."
   ]
  },
  {
   "cell_type": "code",
   "execution_count": 27,
   "metadata": {
    "colab": {},
    "colab_type": "code",
    "id": "dZARuzL7r9HO",
    "scrolled": false
   },
   "outputs": [
    {
     "data": {
      "image/png": "[encoded data removed]",
      "text/plain": [
       "<Figure size 1008x576 with 1 Axes>"
      ]
     },
     "metadata": {
      "needs_background": "light"
     },
     "output_type": "display_data"
    }
   ],
   "source": [
    "# Plot the data\n",
    "plt.figure(figsize=(14, 8))\n",
    "plt.scatter(x_sqft, y_value, c=\"#800000\", s=100, marker='x')\n",
    "# plt.plot([0, x_sqft.max()], [x_sqft.max(), mm*x_sqft.max()+bb], '--g')\n",
    "\n",
    "# Sample the range from minimum to maximum sqft to get 100 points\n",
    "x_div = np.arange(0, 100)*(x_sqft.max()-x_sqft.min())/99+x_sqft.min()\n",
    "plt.plot(x_div, mm*x_div+bb, '.g')\n",
    "\n",
    "# Apply the best fit equation to each sample point and plot the result\n",
    "plt.show()"
   ]
  },
  {
   "cell_type": "code",
   "execution_count": 31,
   "metadata": {},
   "outputs": [
    {
     "name": "stdout",
     "output_type": "stream",
     "text": [
      "286510.9528011152\n",
      "329900.0\n",
      "43389.04719888477\n",
      "0.1315218163045916\n"
     ]
    }
   ],
   "source": [
    "print(1600*mm+bb)\n",
    "for i in range(len(x_sqft)):\n",
    "    if(x_sqft[i]==1600):\n",
    "        print(y_value[i])\n",
    "        print(y_value[i]-(1600*mm+bb))\n",
    "        print(1-(1600*mm+bb)/y_value[i])\n"
   ]
  },
  {
   "cell_type": "markdown",
   "metadata": {
    "colab_type": "text",
    "id": "ywlWE2xtr9HU"
   },
   "source": [
    "1: Given these parameters, how much should a house with 1600 sqft cost?\n",
    "\n",
    "286510.9528011152"
   ]
  },
  {
   "cell_type": "markdown",
   "metadata": {
    "colab_type": "text",
    "id": "J4rZ9L_Rr9HV"
   },
   "source": [
    "2: From the dataset, how much did a house with 1600 sqft actually cost?\n",
    "\n",
    "329900.0"
   ]
  },
  {
   "cell_type": "markdown",
   "metadata": {
    "colab_type": "text",
    "id": "KTZMjw7rr9HW"
   },
   "source": [
    "3: Assuming the current 1600 sqft house would sell for as much as the historical one, how much money would we have lost? What percentage of the total price is this?\n",
    "\n",
    "43389.04719888477\n",
    "13.15% of the real price"
   ]
  },
  {
   "cell_type": "markdown",
   "metadata": {
    "colab_type": "text",
    "id": "UN9zGe6Mr9HY"
   },
   "source": [
    "Now compare the values for 𝑚 and 𝑏 that sklearn generated in the tutorial notebook with the values that you found just now with your function. Hopefully they match."
   ]
  },
  {
   "cell_type": "code",
   "execution_count": 32,
   "metadata": {
    "colab": {},
    "colab_type": "code",
    "id": "CDw75BJrr9HZ",
    "outputId": "f725594e-5540-4afa-d662-9f8e4fd2e4f7"
   },
   "outputs": [
    {
     "name": "stdout",
     "output_type": "stream",
     "text": [
      "Sklearn: 134.52528772 71270.492448729\n",
      "My function: 134.52528772024135 71270.49244872906\n"
     ]
    }
   ],
   "source": [
    "print(\"Sklearn:\",134.52528772, 71270.492448729)\n",
    "print(\"My function:\",mm,bb)"
   ]
  },
  {
   "cell_type": "markdown",
   "metadata": {
    "colab_type": "text",
    "id": "L5R8SjF9r9Hf"
   },
   "source": [
    "---\n",
    "Remember how despite adding an entire new variable, the $R^2$ value barely increased? Let's investigate this further by finding the correlation ($R^2$) value for a regression of square footage vs. number of bedrooms."
   ]
  },
  {
   "cell_type": "code",
   "execution_count": 35,
   "metadata": {
    "colab": {},
    "colab_type": "code",
    "id": "gMPm_HXgr9Hg"
   },
   "outputs": [
    {
     "name": "stdout",
     "output_type": "stream",
     "text": [
      "0.7310037839755306\n"
     ]
    }
   ],
   "source": [
    "import sklearn.linear_model as lm\n",
    "\n",
    "## YOUR CODE HERE\n",
    "model = lm.LinearRegression()\n",
    "predictor = model.fit(x_sqft.reshape(-1, 1), y_value)\n",
    "print(predictor.score(x_sqft.reshape(-1, 1), y_value))"
   ]
  },
  {
   "cell_type": "markdown",
   "metadata": {
    "colab_type": "text",
    "id": "7QT8aPEQr9Hl"
   },
   "source": [
    "Do 2 variables have to be verry correlated to reduce their effectiveness together?\n",
    "\n",
    "No???"
   ]
  },
  {
   "cell_type": "markdown",
   "metadata": {
    "colab_type": "text",
    "id": "HY_jT1uksAYu"
   },
   "source": [
    "## Logistic\n",
    "\n",
    "We are going to predict wheter or not someone has breast cancer using Logistical Regression! We are going to use sklearn's breast cancer dataset! It is up to you to decide what features to get the best results!"
   ]
  },
  {
   "cell_type": "code",
   "execution_count": 128,
   "metadata": {
    "colab": {},
    "colab_type": "code",
    "id": "Pg6kfm6VAdhN"
   },
   "outputs": [],
   "source": [
    "from sklearn.datasets import load_breast_cancer #datasets\n",
    "from sklearn.model_selection import train_test_split\n",
    "from sklearn.linear_model import LogisticRegression\n",
    "\n",
    "data_raw = load_breast_cancer()\n",
    "\n",
    "#X_cols = ['mean radius'], 'mean texture', 'mean perimeter', 'mean area',\n",
    "#       'mean smoothness', 'mean compactness', 'mean concavity',\n",
    "#       'mean concave points', 'mean symmetry', 'mean fractal dimension',\n",
    "#       'radius error', 'texture error', 'perimeter error', 'area error',\n",
    "#       'smoothness error', 'compactness error', 'concavity error',\n",
    "#       'concave points error', 'symmetry error', 'fractal dimension error',\n",
    "#       'worst radius', 'worst texture', 'worst perimeter', 'worst area',\n",
    "#       'worst smoothness', 'worst compactness', 'worst concavity',\n",
    "#       'worst concave points', 'worst symmetry', 'worst fractal dimension']\n",
    "X_cols = ['mean radius', 'mean symmetry', 'mean concavity', 'mean concave points']\n",
    "\n",
    "# Y_cols = []\n",
    "\n",
    "## YOUR CODE HERE\n",
    "# print(data_raw.keys())\n",
    "# print(data.DESCR)\n",
    "# print(data_raw.data.shape)\n",
    "# print(len(data_raw.feature_names))\n",
    "\n",
    "# names = data_raw.feature_names\n",
    "\n",
    "data = pd.DataFrame(data=data_raw.data, columns=names)\n",
    "# print(data_raw.data)\n",
    "\n",
    "test_size = 0.15\n",
    "X_train, X_val, y_train, y_val = train_test_split(data[X_cols], data_raw.target, test_size=test_size, random_state=998244353)"
   ]
  },
  {
   "cell_type": "markdown",
   "metadata": {
    "colab_type": "text",
    "id": "kUZXPX46CUS9"
   },
   "source": [
    "Test your logistical regression! You must get an accuracy of > 80%"
   ]
  },
  {
   "cell_type": "code",
   "execution_count": 130,
   "metadata": {
    "colab": {},
    "colab_type": "code",
    "id": "AnPoDu-CCTsE"
   },
   "outputs": [
    {
     "name": "stdout",
     "output_type": "stream",
     "text": [
      "Test Accuracy is 89.44099378881988\n",
      "Validation Accuracy is  87.20930232558139\n"
     ]
    }
   ],
   "source": [
    "from sklearn.metrics import accuracy_score\n",
    "\n",
    "\n",
    "## YOUR CODE HERE\n",
    "model = LogisticRegression()\n",
    "model.fit(X_train, y_train)\n",
    "\n",
    "print(\"Test Accuracy is\", accuracy_score(y_train, model.predict(X_train))*100)\n",
    "print(\"Validation Accuracy is \", accuracy_score(y_val,model.predict(X_val))*100)"
   ]
  },
  {
   "cell_type": "code",
   "execution_count": 123,
   "metadata": {},
   "outputs": [
    {
     "name": "stdout",
     "output_type": "stream",
     "text": [
      ".. _breast_cancer_dataset:\n",
      "\n",
      "Breast cancer wisconsin (diagnostic) dataset\n",
      "--------------------------------------------\n",
      "\n",
      "**Data Set Characteristics:**\n",
      "\n",
      "    :Number of Instances: 569\n",
      "\n",
      "    :Number of Attributes: 30 numeric, predictive attributes and the class\n",
      "\n",
      "    :Attribute Information:\n",
      "        - radius (mean of distances from center to points on the perimeter)\n",
      "        - texture (standard deviation of gray-scale values)\n",
      "        - perimeter\n",
      "        - area\n",
      "        - smoothness (local variation in radius lengths)\n",
      "        - compactness (perimeter^2 / area - 1.0)\n",
      "        - concavity (severity of concave portions of the contour)\n",
      "        - concave points (number of concave portions of the contour)\n",
      "        - symmetry \n",
      "        - fractal dimension (\"coastline approximation\" - 1)\n",
      "\n",
      "        The mean, standard error, and \"worst\" or largest (mean of the three\n",
      "        largest values) of these features were computed for each image,\n",
      "        resulting in 30 features.  For instance, field 3 is Mean Radius, field\n",
      "        13 is Radius SE, field 23 is Worst Radius.\n",
      "\n",
      "        - class:\n",
      "                - WDBC-Malignant\n",
      "                - WDBC-Benign\n",
      "\n",
      "    :Summary Statistics:\n",
      "\n",
      "    ===================================== ====== ======\n",
      "                                           Min    Max\n",
      "    ===================================== ====== ======\n",
      "    radius (mean):                        6.981  28.11\n",
      "    texture (mean):                       9.71   39.28\n",
      "    perimeter (mean):                     43.79  188.5\n",
      "    area (mean):                          143.5  2501.0\n",
      "    smoothness (mean):                    0.053  0.163\n",
      "    compactness (mean):                   0.019  0.345\n",
      "    concavity (mean):                     0.0    0.427\n",
      "    concave points (mean):                0.0    0.201\n",
      "    symmetry (mean):                      0.106  0.304\n",
      "    fractal dimension (mean):             0.05   0.097\n",
      "    radius (standard error):              0.112  2.873\n",
      "    texture (standard error):             0.36   4.885\n",
      "    perimeter (standard error):           0.757  21.98\n",
      "    area (standard error):                6.802  542.2\n",
      "    smoothness (standard error):          0.002  0.031\n",
      "    compactness (standard error):         0.002  0.135\n",
      "    concavity (standard error):           0.0    0.396\n",
      "    concave points (standard error):      0.0    0.053\n",
      "    symmetry (standard error):            0.008  0.079\n",
      "    fractal dimension (standard error):   0.001  0.03\n",
      "    radius (worst):                       7.93   36.04\n",
      "    texture (worst):                      12.02  49.54\n",
      "    perimeter (worst):                    50.41  251.2\n",
      "    area (worst):                         185.2  4254.0\n",
      "    smoothness (worst):                   0.071  0.223\n",
      "    compactness (worst):                  0.027  1.058\n",
      "    concavity (worst):                    0.0    1.252\n",
      "    concave points (worst):               0.0    0.291\n",
      "    symmetry (worst):                     0.156  0.664\n",
      "    fractal dimension (worst):            0.055  0.208\n",
      "    ===================================== ====== ======\n",
      "\n",
      "    :Missing Attribute Values: None\n",
      "\n",
      "    :Class Distribution: 212 - Malignant, 357 - Benign\n",
      "\n",
      "    :Creator:  Dr. William H. Wolberg, W. Nick Street, Olvi L. Mangasarian\n",
      "\n",
      "    :Donor: Nick Street\n",
      "\n",
      "    :Date: November, 1995\n",
      "\n",
      "This is a copy of UCI ML Breast Cancer Wisconsin (Diagnostic) datasets.\n",
      "https://goo.gl/U2Uwz2\n",
      "\n",
      "Features are computed from a digitized image of a fine needle\n",
      "aspirate (FNA) of a breast mass.  They describe\n",
      "characteristics of the cell nuclei present in the image.\n",
      "\n",
      "Separating plane described above was obtained using\n",
      "Multisurface Method-Tree (MSM-T) [K. P. Bennett, \"Decision Tree\n",
      "Construction Via Linear Programming.\" Proceedings of the 4th\n",
      "Midwest Artificial Intelligence and Cognitive Science Society,\n",
      "pp. 97-101, 1992], a classification method which uses linear\n",
      "programming to construct a decision tree.  Relevant features\n",
      "were selected using an exhaustive search in the space of 1-4\n",
      "features and 1-3 separating planes.\n",
      "\n",
      "The actual linear program used to obtain the separating plane\n",
      "in the 3-dimensional space is that described in:\n",
      "[K. P. Bennett and O. L. Mangasarian: \"Robust Linear\n",
      "Programming Discrimination of Two Linearly Inseparable Sets\",\n",
      "Optimization Methods and Software 1, 1992, 23-34].\n",
      "\n",
      "This database is also available through the UW CS ftp server:\n",
      "\n",
      "ftp ftp.cs.wisc.edu\n",
      "cd math-prog/cpo-dataset/machine-learn/WDBC/\n",
      "\n",
      ".. topic:: References\n",
      "\n",
      "   - W.N. Street, W.H. Wolberg and O.L. Mangasarian. Nuclear feature extraction \n",
      "     for breast tumor diagnosis. IS&T/SPIE 1993 International Symposium on \n",
      "     Electronic Imaging: Science and Technology, volume 1905, pages 861-870,\n",
      "     San Jose, CA, 1993.\n",
      "   - O.L. Mangasarian, W.N. Street and W.H. Wolberg. Breast cancer diagnosis and \n",
      "     prognosis via linear programming. Operations Research, 43(4), pages 570-577, \n",
      "     July-August 1995.\n",
      "   - W.H. Wolberg, W.N. Street, and O.L. Mangasarian. Machine learning techniques\n",
      "     to diagnose breast cancer from fine-needle aspirates. Cancer Letters 77 (1994) \n",
      "     163-171.\n"
     ]
    }
   ],
   "source": [
    "print(data_raw.DESCR)"
   ]
  },
  {
   "cell_type": "code",
   "execution_count": null,
   "metadata": {},
   "outputs": [],
   "source": []
  }
 ],
 "metadata": {
  "colab": {
   "name": "Regression_Exercise-1.ipynb",
   "provenance": []
  },
  "kernelspec": {
   "display_name": "Python 3",
   "language": "python",
   "name": "python3"
  },
  "language_info": {
   "codemirror_mode": {
    "name": "ipython",
    "version": 3
   },
   "file_extension": ".py",
   "mimetype": "text/x-python",
   "name": "python",
   "nbconvert_exporter": "python",
   "pygments_lexer": "ipython3",
   "version": "3.7.7"
  }
 },
 "nbformat": 4,
 "nbformat_minor": 1
}
