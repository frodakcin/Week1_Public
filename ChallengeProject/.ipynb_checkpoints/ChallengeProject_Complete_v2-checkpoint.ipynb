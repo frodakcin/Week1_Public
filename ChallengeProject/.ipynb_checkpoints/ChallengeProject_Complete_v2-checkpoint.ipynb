{
 "cells": [
  {
   "cell_type": "markdown",
   "metadata": {
    "colab_type": "text",
    "id": "pn6VZ_1yQap8"
   },
   "source": [
    "# Week 1 Challenge Project\n",
    "This is the complete notebook, which includes both the data cleaning and visualization section released on Day 2, and additional guidelines for model creation and evaluation. If you were already working on the notebook from before, you may have to copy your work over.\n",
    "\n",
    "At the end of this notebook, there is also a description of how to finalize and present your project."
   ]
  },
  {
   "cell_type": "markdown",
   "metadata": {
    "colab_type": "text",
    "id": "XQDE8pPCpFRb"
   },
   "source": [
    "## Challenge Introduction\n",
    "\n",
    "> Original author: Lyle Lalunio\n",
    "\n",
    "Hypothyroidism, also called underactive thyroid or low thyroid, is a disorder of the endocrine system in which the thyroid gland does not produce enough thyroid hormone. It can cause a number of symptoms, such as poor ability to tolerate cold, a feeling of tiredness, constipation, depression, and weight gain. Occasionally there may be swelling of the front part of the neck due to goitre. Untreated hypothyroidism during pregnancy can lead to delays in growth and intellectual development in the baby or cretinism.\n",
    "\n",
    "Worldwide, too little iodine in the diet is the most common cause of hypothyroidism. In countries with enough iodine in the diet, the most common cause of hypothyroidism is the autoimmune condition Hashimoto's thyroiditis. Less common causes include: previous treatment with radioactive iodine, injury to the hypothalamus or the anterior pituitary gland, certain medications, a lack of a functioning thyroid at birth, or previous thyroid surgery. The diagnosis of hypothyroidism, when suspected, can be confirmed with blood tests measuring thyroid-stimulating hormone (TSH) and thyroxine levels.\n",
    "\n",
    "Worldwide about one billion people are estimated to be iodine deficient; however, it is unknown how often this results in hypothyroidism. In the United States, hypothyroidism occurs in 0.3–0.4% of people.\n",
    "\n",
    "And that is why we iodize salt.\n",
    "\n",
    "![alt text](https://www.mayoclinic.org/-/media/kcms/gbs/patient-consumer/images/2013/11/15/17/39/ds00181_-ds00344_-ds00353_-ds00491_-ds00492_-ds00567_-ds00660_-my00709_im01872_thyroid_gif.jpg)\n",
    "\n"
   ]
  },
  {
   "cell_type": "markdown",
   "metadata": {
    "colab_type": "text",
    "id": "OFF1-BLiSLZ8"
   },
   "source": [
    "Background: Doctors all around the world need our help to predict whether a patient has hypothyroid disease. We have already overspent our budget to collect such complete data on about 30 attributes for 2800 patients--a good starting number, but a larger sample would certainly be preferred. Moving forward, however, we simply cannot afford to spend so much money on data collection. Therefore, we also need to determine which attributes are the most meaningful to the predictive models, and cut out the rest that don't contribute much. \n",
    "\n",
    "The boss wants to see a **balanced** model that can predict with a **high sensitivity** and **high specificity** while using a ***low amount of features***. Collecting complete data such as this is very rare, very time-consuming, and often very expensive. By minimizing the number of features, it will optimize future data collection by deciding what needs to be collected, and what doesn't."
   ]
  },
  {
   "cell_type": "markdown",
   "metadata": {
    "colab_type": "text",
    "id": "HsZB_SGvp4mP"
   },
   "source": [
    "## Loading the data"
   ]
  },
  {
   "cell_type": "markdown",
   "metadata": {
    "colab_type": "text",
    "id": "DWrUz9OQ0uAU"
   },
   "source": [
    "Let's read the data into a Pandas dataframe and look at the first 20 records."
   ]
  },
  {
   "cell_type": "code",
   "execution_count": 82,
   "metadata": {
    "colab": {},
    "colab_type": "code",
    "id": "s9AtXQPkzC8j"
   },
   "outputs": [],
   "source": [
    "import pandas as pd\n",
    "### Your code here\n",
    "\n",
    "url = \"https://raw.githubusercontent.com/BeaverWorksMedlytics2020/Data_Public/master/ChallengeProjects/Week1/allhypo.train.data.csv\"\n",
    "dataset=pd.read_csv(url) \n",
    "# dataset.head(10)\n",
    "\n",
    "# dataset[['TSH', 'class']].head(10)\n",
    "# out_file = open(\"data.txt\", \"w\")\n",
    "# out_file.printf(\"test\")"
   ]
  },
  {
   "cell_type": "markdown",
   "metadata": {
    "colab_type": "text",
    "id": "tYhtoqdR6Y3J"
   },
   "source": [
    "Great, looks like the data loaded in properly. Let's continue looking at some summary statistics on our data."
   ]
  },
  {
   "cell_type": "markdown",
   "metadata": {
    "colab_type": "text",
    "id": "sGKbG-eBqBjF"
   },
   "source": [
    "## Viewing summary statistics\n",
    "The functions describe() and info() are your friends"
   ]
  },
  {
   "cell_type": "code",
   "execution_count": 83,
   "metadata": {
    "colab": {},
    "colab_type": "code",
    "id": "rnp3nN9b6ZNw"
   },
   "outputs": [],
   "source": [
    "# dataset.describe()"
   ]
  },
  {
   "cell_type": "code",
   "execution_count": 84,
   "metadata": {
    "colab": {},
    "colab_type": "code",
    "id": "9QndSspU7lW4"
   },
   "outputs": [],
   "source": [
    "# dataset.info()"
   ]
  },
  {
   "cell_type": "markdown",
   "metadata": {
    "colab_type": "text",
    "id": "olpFokrp8AIH"
   },
   "source": [
    "Note the data types are all objects--even columns that are obviously numeric like Age.\n"
   ]
  },
  {
   "cell_type": "markdown",
   "metadata": {
    "colab_type": "text",
    "id": "0emOppVyqQS9"
   },
   "source": [
    "## Data cleaning"
   ]
  },
  {
   "cell_type": "markdown",
   "metadata": {
    "colab_type": "text",
    "id": "ZRQpnByEWrcx"
   },
   "source": [
    "To start, let's make all the numerical columns contain the correct type of values and change the data type of those columns to numeric. Let's also replace all those question marks with the median of the respective column.\n",
    "\n",
    "Hint: To make it easier, first try converting all the \"?\" to NaN."
   ]
  },
  {
   "cell_type": "code",
   "execution_count": 85,
   "metadata": {
    "colab": {},
    "colab_type": "code",
    "id": "BlTsaK5n5Bg1"
   },
   "outputs": [
    {
     "data": {
      "text/html": [
       "<div>\n",
       "<style scoped>\n",
       "    .dataframe tbody tr th:only-of-type {\n",
       "        vertical-align: middle;\n",
       "    }\n",
       "\n",
       "    .dataframe tbody tr th {\n",
       "        vertical-align: top;\n",
       "    }\n",
       "\n",
       "    .dataframe thead th {\n",
       "        text-align: right;\n",
       "    }\n",
       "</style>\n",
       "<table border=\"1\" class=\"dataframe\">\n",
       "  <thead>\n",
       "    <tr style=\"text-align: right;\">\n",
       "      <th></th>\n",
       "      <th>Age</th>\n",
       "      <th>Sex</th>\n",
       "      <th>On thyroxine</th>\n",
       "      <th>query on thyroxine</th>\n",
       "      <th>on antithyroid medication</th>\n",
       "      <th>sick</th>\n",
       "      <th>pregnant</th>\n",
       "      <th>thyroid surgery</th>\n",
       "      <th>I131 treatment</th>\n",
       "      <th>query hypothyroid</th>\n",
       "      <th>...</th>\n",
       "      <th>TT4 measured</th>\n",
       "      <th>TT4</th>\n",
       "      <th>T4U measured</th>\n",
       "      <th>T4u</th>\n",
       "      <th>FTI measured</th>\n",
       "      <th>FTI</th>\n",
       "      <th>TBG measured</th>\n",
       "      <th>TBG</th>\n",
       "      <th>referral source</th>\n",
       "      <th>class</th>\n",
       "    </tr>\n",
       "  </thead>\n",
       "  <tbody>\n",
       "    <tr>\n",
       "      <th>0</th>\n",
       "      <td>41.0</td>\n",
       "      <td>F</td>\n",
       "      <td>f</td>\n",
       "      <td>f</td>\n",
       "      <td>f</td>\n",
       "      <td>f</td>\n",
       "      <td>f</td>\n",
       "      <td>f</td>\n",
       "      <td>f</td>\n",
       "      <td>f</td>\n",
       "      <td>...</td>\n",
       "      <td>t</td>\n",
       "      <td>125.0</td>\n",
       "      <td>t</td>\n",
       "      <td>1.14</td>\n",
       "      <td>t</td>\n",
       "      <td>109.0</td>\n",
       "      <td>f</td>\n",
       "      <td>NaN</td>\n",
       "      <td>SVHC</td>\n",
       "      <td>negative.|3733</td>\n",
       "    </tr>\n",
       "    <tr>\n",
       "      <th>1</th>\n",
       "      <td>23.0</td>\n",
       "      <td>F</td>\n",
       "      <td>f</td>\n",
       "      <td>f</td>\n",
       "      <td>f</td>\n",
       "      <td>f</td>\n",
       "      <td>f</td>\n",
       "      <td>f</td>\n",
       "      <td>f</td>\n",
       "      <td>f</td>\n",
       "      <td>...</td>\n",
       "      <td>t</td>\n",
       "      <td>102.0</td>\n",
       "      <td>f</td>\n",
       "      <td>0.98</td>\n",
       "      <td>f</td>\n",
       "      <td>107.0</td>\n",
       "      <td>f</td>\n",
       "      <td>NaN</td>\n",
       "      <td>other</td>\n",
       "      <td>negative.|1442</td>\n",
       "    </tr>\n",
       "    <tr>\n",
       "      <th>2</th>\n",
       "      <td>46.0</td>\n",
       "      <td>M</td>\n",
       "      <td>f</td>\n",
       "      <td>f</td>\n",
       "      <td>f</td>\n",
       "      <td>f</td>\n",
       "      <td>f</td>\n",
       "      <td>f</td>\n",
       "      <td>f</td>\n",
       "      <td>f</td>\n",
       "      <td>...</td>\n",
       "      <td>t</td>\n",
       "      <td>109.0</td>\n",
       "      <td>t</td>\n",
       "      <td>0.91</td>\n",
       "      <td>t</td>\n",
       "      <td>120.0</td>\n",
       "      <td>f</td>\n",
       "      <td>NaN</td>\n",
       "      <td>other</td>\n",
       "      <td>negative.|2965</td>\n",
       "    </tr>\n",
       "    <tr>\n",
       "      <th>3</th>\n",
       "      <td>70.0</td>\n",
       "      <td>F</td>\n",
       "      <td>t</td>\n",
       "      <td>f</td>\n",
       "      <td>f</td>\n",
       "      <td>f</td>\n",
       "      <td>f</td>\n",
       "      <td>f</td>\n",
       "      <td>f</td>\n",
       "      <td>f</td>\n",
       "      <td>...</td>\n",
       "      <td>t</td>\n",
       "      <td>175.0</td>\n",
       "      <td>f</td>\n",
       "      <td>0.98</td>\n",
       "      <td>f</td>\n",
       "      <td>107.0</td>\n",
       "      <td>f</td>\n",
       "      <td>NaN</td>\n",
       "      <td>other</td>\n",
       "      <td>negative.|806</td>\n",
       "    </tr>\n",
       "    <tr>\n",
       "      <th>4</th>\n",
       "      <td>70.0</td>\n",
       "      <td>F</td>\n",
       "      <td>f</td>\n",
       "      <td>f</td>\n",
       "      <td>f</td>\n",
       "      <td>f</td>\n",
       "      <td>f</td>\n",
       "      <td>f</td>\n",
       "      <td>f</td>\n",
       "      <td>f</td>\n",
       "      <td>...</td>\n",
       "      <td>t</td>\n",
       "      <td>61.0</td>\n",
       "      <td>t</td>\n",
       "      <td>0.87</td>\n",
       "      <td>t</td>\n",
       "      <td>70.0</td>\n",
       "      <td>f</td>\n",
       "      <td>NaN</td>\n",
       "      <td>SVI</td>\n",
       "      <td>negative.|2807</td>\n",
       "    </tr>\n",
       "    <tr>\n",
       "      <th>5</th>\n",
       "      <td>18.0</td>\n",
       "      <td>F</td>\n",
       "      <td>t</td>\n",
       "      <td>f</td>\n",
       "      <td>f</td>\n",
       "      <td>f</td>\n",
       "      <td>f</td>\n",
       "      <td>f</td>\n",
       "      <td>f</td>\n",
       "      <td>f</td>\n",
       "      <td>...</td>\n",
       "      <td>t</td>\n",
       "      <td>183.0</td>\n",
       "      <td>t</td>\n",
       "      <td>1.30</td>\n",
       "      <td>t</td>\n",
       "      <td>141.0</td>\n",
       "      <td>f</td>\n",
       "      <td>NaN</td>\n",
       "      <td>other</td>\n",
       "      <td>negative.|3434</td>\n",
       "    </tr>\n",
       "    <tr>\n",
       "      <th>6</th>\n",
       "      <td>59.0</td>\n",
       "      <td>F</td>\n",
       "      <td>f</td>\n",
       "      <td>f</td>\n",
       "      <td>f</td>\n",
       "      <td>f</td>\n",
       "      <td>f</td>\n",
       "      <td>f</td>\n",
       "      <td>f</td>\n",
       "      <td>f</td>\n",
       "      <td>...</td>\n",
       "      <td>t</td>\n",
       "      <td>72.0</td>\n",
       "      <td>t</td>\n",
       "      <td>0.92</td>\n",
       "      <td>t</td>\n",
       "      <td>78.0</td>\n",
       "      <td>f</td>\n",
       "      <td>NaN</td>\n",
       "      <td>other</td>\n",
       "      <td>negative.|1595</td>\n",
       "    </tr>\n",
       "    <tr>\n",
       "      <th>7</th>\n",
       "      <td>80.0</td>\n",
       "      <td>F</td>\n",
       "      <td>f</td>\n",
       "      <td>f</td>\n",
       "      <td>f</td>\n",
       "      <td>f</td>\n",
       "      <td>f</td>\n",
       "      <td>f</td>\n",
       "      <td>f</td>\n",
       "      <td>f</td>\n",
       "      <td>...</td>\n",
       "      <td>t</td>\n",
       "      <td>80.0</td>\n",
       "      <td>t</td>\n",
       "      <td>0.70</td>\n",
       "      <td>t</td>\n",
       "      <td>115.0</td>\n",
       "      <td>f</td>\n",
       "      <td>NaN</td>\n",
       "      <td>SVI</td>\n",
       "      <td>negative.|1367</td>\n",
       "    </tr>\n",
       "    <tr>\n",
       "      <th>8</th>\n",
       "      <td>66.0</td>\n",
       "      <td>F</td>\n",
       "      <td>f</td>\n",
       "      <td>f</td>\n",
       "      <td>f</td>\n",
       "      <td>f</td>\n",
       "      <td>f</td>\n",
       "      <td>f</td>\n",
       "      <td>f</td>\n",
       "      <td>f</td>\n",
       "      <td>...</td>\n",
       "      <td>t</td>\n",
       "      <td>123.0</td>\n",
       "      <td>t</td>\n",
       "      <td>0.93</td>\n",
       "      <td>t</td>\n",
       "      <td>132.0</td>\n",
       "      <td>f</td>\n",
       "      <td>NaN</td>\n",
       "      <td>SVI</td>\n",
       "      <td>negative.|1787</td>\n",
       "    </tr>\n",
       "    <tr>\n",
       "      <th>9</th>\n",
       "      <td>68.0</td>\n",
       "      <td>M</td>\n",
       "      <td>f</td>\n",
       "      <td>f</td>\n",
       "      <td>f</td>\n",
       "      <td>f</td>\n",
       "      <td>f</td>\n",
       "      <td>f</td>\n",
       "      <td>f</td>\n",
       "      <td>f</td>\n",
       "      <td>...</td>\n",
       "      <td>t</td>\n",
       "      <td>83.0</td>\n",
       "      <td>t</td>\n",
       "      <td>0.89</td>\n",
       "      <td>t</td>\n",
       "      <td>93.0</td>\n",
       "      <td>f</td>\n",
       "      <td>NaN</td>\n",
       "      <td>SVI</td>\n",
       "      <td>negative.|2534</td>\n",
       "    </tr>\n",
       "  </tbody>\n",
       "</table>\n",
       "<p>10 rows × 29 columns</p>\n",
       "</div>"
      ],
      "text/plain": [
       "    Age Sex On thyroxine query on thyroxine on antithyroid medication sick  \\\n",
       "0  41.0   F            f                  f                         f    f   \n",
       "1  23.0   F            f                  f                         f    f   \n",
       "2  46.0   M            f                  f                         f    f   \n",
       "3  70.0   F            t                  f                         f    f   \n",
       "4  70.0   F            f                  f                         f    f   \n",
       "5  18.0   F            t                  f                         f    f   \n",
       "6  59.0   F            f                  f                         f    f   \n",
       "7  80.0   F            f                  f                         f    f   \n",
       "8  66.0   F            f                  f                         f    f   \n",
       "9  68.0   M            f                  f                         f    f   \n",
       "\n",
       "  pregnant thyroid surgery I131 treatment query hypothyroid  ... TT4 measured  \\\n",
       "0        f               f              f                 f  ...            t   \n",
       "1        f               f              f                 f  ...            t   \n",
       "2        f               f              f                 f  ...            t   \n",
       "3        f               f              f                 f  ...            t   \n",
       "4        f               f              f                 f  ...            t   \n",
       "5        f               f              f                 f  ...            t   \n",
       "6        f               f              f                 f  ...            t   \n",
       "7        f               f              f                 f  ...            t   \n",
       "8        f               f              f                 f  ...            t   \n",
       "9        f               f              f                 f  ...            t   \n",
       "\n",
       "     TT4 T4U measured   T4u FTI measured    FTI  TBG measured TBG  \\\n",
       "0  125.0            t  1.14            t  109.0             f NaN   \n",
       "1  102.0            f  0.98            f  107.0             f NaN   \n",
       "2  109.0            t  0.91            t  120.0             f NaN   \n",
       "3  175.0            f  0.98            f  107.0             f NaN   \n",
       "4   61.0            t  0.87            t   70.0             f NaN   \n",
       "5  183.0            t  1.30            t  141.0             f NaN   \n",
       "6   72.0            t  0.92            t   78.0             f NaN   \n",
       "7   80.0            t  0.70            t  115.0             f NaN   \n",
       "8  123.0            t  0.93            t  132.0             f NaN   \n",
       "9   83.0            t  0.89            t   93.0             f NaN   \n",
       "\n",
       "   referral source           class  \n",
       "0             SVHC  negative.|3733  \n",
       "1            other  negative.|1442  \n",
       "2            other  negative.|2965  \n",
       "3            other   negative.|806  \n",
       "4              SVI  negative.|2807  \n",
       "5            other  negative.|3434  \n",
       "6            other  negative.|1595  \n",
       "7              SVI  negative.|1367  \n",
       "8              SVI  negative.|1787  \n",
       "9              SVI  negative.|2534  \n",
       "\n",
       "[10 rows x 29 columns]"
      ]
     },
     "execution_count": 85,
     "metadata": {},
     "output_type": "execute_result"
    }
   ],
   "source": [
    "import numpy as np\n",
    "\n",
    "dataset = dataset.replace(to_replace='?', value=float(\"NaN\"))\n",
    "numeric_columns = ['Age', 'TSH', 'T3', 'TT4', 'T4u', 'FTI']\n",
    "dataset[numeric_columns] = dataset[numeric_columns].apply(pd.to_numeric)\n",
    "\n",
    "medians = dataset[numeric_columns].median()\n",
    "# print(medians)\n",
    "dataset = dataset.replace(to_replace=np.nan, value=medians)\n",
    "dataset.head(10)\n"
   ]
  },
  {
   "cell_type": "markdown",
   "metadata": {
    "colab_type": "text",
    "id": "HZo7iKHUD3DG"
   },
   "source": [
    "Hmm, still looks like the TBG column is unfilled, implying it was empty to begin with. Let's get rid of this column, then (and make sure to get rid of it in your list of numeric columns, too!)"
   ]
  },
  {
   "cell_type": "code",
   "execution_count": 86,
   "metadata": {
    "colab": {},
    "colab_type": "code",
    "id": "yAe5FIFkD25f"
   },
   "outputs": [],
   "source": [
    "## YOUR CODE HERE\n",
    "\n",
    "dataset=dataset.drop('TBG', axis=1)"
   ]
  },
  {
   "cell_type": "markdown",
   "metadata": {
    "colab_type": "text",
    "id": "DTjWD_ddCHsA"
   },
   "source": [
    "All right, let's take a look now at the info of *just the numeric columns* in the dataset:"
   ]
  },
  {
   "cell_type": "code",
   "execution_count": 87,
   "metadata": {
    "colab": {},
    "colab_type": "code",
    "id": "00OaxCAbzRvA"
   },
   "outputs": [],
   "source": [
    "# copy[numeric_columns].info()"
   ]
  },
  {
   "cell_type": "markdown",
   "metadata": {
    "colab_type": "text",
    "id": "XOzcRX-5YRvz"
   },
   "source": [
    "Perfect, now let's fix that class feature. According to the note the data collectors included with this data, the \".|####\" refers to a patient number, and is not necessarily relevant for our purposes here."
   ]
  },
  {
   "cell_type": "code",
   "execution_count": 88,
   "metadata": {
    "colab": {},
    "colab_type": "code",
    "id": "QFmeyRcGYR7s"
   },
   "outputs": [],
   "source": [
    "### Your code here"
   ]
  },
  {
   "cell_type": "markdown",
   "metadata": {
    "colab_type": "text",
    "id": "KYOwWnpqhQvd"
   },
   "source": [
    "Let's run the describe() function on just the \"class\" column."
   ]
  },
  {
   "cell_type": "code",
   "execution_count": 89,
   "metadata": {
    "colab": {},
    "colab_type": "code",
    "id": "cq_v45R8hP5A"
   },
   "outputs": [],
   "source": [
    "## YOUR CODE HERE\n",
    "\n",
    "for i, diagnosis in enumerate(dataset['class']):\n",
    "  ndiagnosis = diagnosis.split('.')[0]\n",
    "  dataset.at[i,'class'] = ndiagnosis"
   ]
  },
  {
   "cell_type": "markdown",
   "metadata": {
    "colab_type": "text",
    "id": "m6S7Y6VXhYct"
   },
   "source": [
    "It looks like there are actually 4 unique classification variables! Thank goodness we didn't assume it was binary.\n",
    "\n",
    "Display all the unique values in the class column."
   ]
  },
  {
   "cell_type": "code",
   "execution_count": 90,
   "metadata": {
    "colab": {},
    "colab_type": "code",
    "id": "oH0fTzzvE-oF"
   },
   "outputs": [
    {
     "data": {
      "text/plain": [
       "array(['negative', 'compensated hypothyroid', 'primary hypothyroid',\n",
       "       'secondary hypothyroid'], dtype=object)"
      ]
     },
     "execution_count": 90,
     "metadata": {},
     "output_type": "execute_result"
    }
   ],
   "source": [
    "### Your code here\n",
    "\n",
    "dataset['class'].unique()"
   ]
  },
  {
   "cell_type": "markdown",
   "metadata": {
    "colab_type": "text",
    "id": "aBrmRJHakpWm"
   },
   "source": [
    "But let's make it binary for the sake of this example anyway. If you finish early later on, try the multiclass classifier with all 4 values!"
   ]
  },
  {
   "cell_type": "code",
   "execution_count": 91,
   "metadata": {
    "colab": {},
    "colab_type": "code",
    "id": "HwqVoUFTkoa0"
   },
   "outputs": [],
   "source": [
    "# dataset['class'] = dataset['class'].replace({'compensated hypothyroid': 'positive', 'primary hypothyroid': 'positive', 'secondary hypothyroid': 'positive'})\n",
    "\n",
    "dataset['class'] = dataset['class'].replace({'compensated hypothyroid': 1, 'primary hypothyroid': 1, 'secondary hypothyroid': 1, 'negative': 0})\n",
    "dataset['class'] = dataset['class'].apply(pd.to_numeric)"
   ]
  },
  {
   "cell_type": "markdown",
   "metadata": {
    "colab_type": "text",
    "id": "jbgWOvekhluw"
   },
   "source": [
    "Before we move on, let's not forget to run the describe() function on just  your categorical columns, too.\n",
    "Compare it to the describe() that your numeric columns produce."
   ]
  },
  {
   "cell_type": "code",
   "execution_count": 92,
   "metadata": {
    "colab": {},
    "colab_type": "code",
    "id": "WHAZCbNAc5KT"
   },
   "outputs": [
    {
     "data": {
      "text/plain": [
       "array([0, 1])"
      ]
     },
     "execution_count": 92,
     "metadata": {},
     "output_type": "execute_result"
    }
   ],
   "source": [
    "### Your code here\n",
    "\n",
    "dataset['class'].unique()\n"
   ]
  },
  {
   "cell_type": "markdown",
   "metadata": {
    "colab_type": "text",
    "id": "Jo9aRzltCOK8"
   },
   "source": [
    "Great! Let's see if there's any other records we have to address. count() is a nice way to check if we have any other missing values."
   ]
  },
  {
   "cell_type": "code",
   "execution_count": 93,
   "metadata": {
    "colab": {},
    "colab_type": "code",
    "id": "Q1yGe8nrzozW"
   },
   "outputs": [
    {
     "data": {
      "text/plain": [
       "Age                          2800\n",
       "Sex                          2690\n",
       "On thyroxine                 2800\n",
       "query on thyroxine           2800\n",
       "on antithyroid medication    2800\n",
       "sick                         2800\n",
       "pregnant                     2800\n",
       "thyroid surgery              2800\n",
       "I131 treatment               2800\n",
       "query hypothyroid            2800\n",
       "query hyperthyroid           2800\n",
       "lithium                      2800\n",
       "goitre                       2800\n",
       "tumor                        2800\n",
       "psych                        2800\n",
       "TSH measured                 2800\n",
       "TSH                          2800\n",
       "T3 measured                  2800\n",
       "T3                           2800\n",
       "TT4 measured                 2800\n",
       "TT4                          2800\n",
       "T4U measured                 2800\n",
       "T4u                          2800\n",
       "FTI measured                 2800\n",
       "FTI                          2800\n",
       "TBG measured                 2800\n",
       "referral source              2800\n",
       "class                        2800\n",
       "dtype: int64"
      ]
     },
     "execution_count": 93,
     "metadata": {},
     "output_type": "execute_result"
    }
   ],
   "source": [
    "dataset.count()"
   ]
  },
  {
   "cell_type": "markdown",
   "metadata": {
    "colab_type": "text",
    "id": "-Y9DDq8qCeL8"
   },
   "source": [
    "We could replace the missing values in proportion to the current number of males and females over the total, but that is making an assumption we don't have to make. For now, let's simply cut the records of all these sexless people out of our data."
   ]
  },
  {
   "cell_type": "code",
   "execution_count": 94,
   "metadata": {
    "colab": {},
    "colab_type": "code",
    "id": "1E6qS7F5zyt3"
   },
   "outputs": [],
   "source": [
    "## YOUR CODE HERE\n",
    "\n",
    "dataset=dataset[(dataset['Sex'] == 'F') | (dataset['Sex'] == 'M')]"
   ]
  },
  {
   "cell_type": "markdown",
   "metadata": {
    "colab_type": "text",
    "id": "eTcS25EHF4vL"
   },
   "source": [
    "Nice! Now we have a pretty clean dataset to work with. Let's now do some further data analysis and visualization to better understand what we're working with."
   ]
  },
  {
   "cell_type": "markdown",
   "metadata": {
    "colab_type": "text",
    "id": "SsiaTCjQql3S"
   },
   "source": [
    "## Data analysis and visualization"
   ]
  },
  {
   "cell_type": "markdown",
   "metadata": {
    "colab_type": "text",
    "id": "huFOG2Mw3OqJ"
   },
   "source": [
    "Check the correlation"
   ]
  },
  {
   "cell_type": "code",
   "execution_count": 95,
   "metadata": {
    "colab": {},
    "colab_type": "code",
    "id": "fXrXSMW_GSeT"
   },
   "outputs": [
    {
     "data": {
      "text/html": [
       "<div>\n",
       "<style scoped>\n",
       "    .dataframe tbody tr th:only-of-type {\n",
       "        vertical-align: middle;\n",
       "    }\n",
       "\n",
       "    .dataframe tbody tr th {\n",
       "        vertical-align: top;\n",
       "    }\n",
       "\n",
       "    .dataframe thead th {\n",
       "        text-align: right;\n",
       "    }\n",
       "</style>\n",
       "<table border=\"1\" class=\"dataframe\">\n",
       "  <thead>\n",
       "    <tr style=\"text-align: right;\">\n",
       "      <th></th>\n",
       "      <th>Age</th>\n",
       "      <th>TSH</th>\n",
       "      <th>T3</th>\n",
       "      <th>TT4</th>\n",
       "      <th>T4u</th>\n",
       "      <th>FTI</th>\n",
       "      <th>class</th>\n",
       "    </tr>\n",
       "  </thead>\n",
       "  <tbody>\n",
       "    <tr>\n",
       "      <th>Age</th>\n",
       "      <td>1.000000</td>\n",
       "      <td>-0.033569</td>\n",
       "      <td>-0.224286</td>\n",
       "      <td>-0.050343</td>\n",
       "      <td>-0.155124</td>\n",
       "      <td>0.040092</td>\n",
       "      <td>-0.008215</td>\n",
       "    </tr>\n",
       "    <tr>\n",
       "      <th>TSH</th>\n",
       "      <td>-0.033569</td>\n",
       "      <td>1.000000</td>\n",
       "      <td>-0.155681</td>\n",
       "      <td>-0.259671</td>\n",
       "      <td>0.066218</td>\n",
       "      <td>-0.295188</td>\n",
       "      <td>0.441618</td>\n",
       "    </tr>\n",
       "    <tr>\n",
       "      <th>T3</th>\n",
       "      <td>-0.224286</td>\n",
       "      <td>-0.155681</td>\n",
       "      <td>1.000000</td>\n",
       "      <td>0.514505</td>\n",
       "      <td>0.424036</td>\n",
       "      <td>0.312070</td>\n",
       "      <td>-0.167724</td>\n",
       "    </tr>\n",
       "    <tr>\n",
       "      <th>TT4</th>\n",
       "      <td>-0.050343</td>\n",
       "      <td>-0.259671</td>\n",
       "      <td>0.514505</td>\n",
       "      <td>1.000000</td>\n",
       "      <td>0.431904</td>\n",
       "      <td>0.781832</td>\n",
       "      <td>-0.268986</td>\n",
       "    </tr>\n",
       "    <tr>\n",
       "      <th>T4u</th>\n",
       "      <td>-0.155124</td>\n",
       "      <td>0.066218</td>\n",
       "      <td>0.424036</td>\n",
       "      <td>0.431904</td>\n",
       "      <td>1.000000</td>\n",
       "      <td>-0.167147</td>\n",
       "      <td>0.031880</td>\n",
       "    </tr>\n",
       "    <tr>\n",
       "      <th>FTI</th>\n",
       "      <td>0.040092</td>\n",
       "      <td>-0.295188</td>\n",
       "      <td>0.312070</td>\n",
       "      <td>0.781832</td>\n",
       "      <td>-0.167147</td>\n",
       "      <td>1.000000</td>\n",
       "      <td>-0.292745</td>\n",
       "    </tr>\n",
       "    <tr>\n",
       "      <th>class</th>\n",
       "      <td>-0.008215</td>\n",
       "      <td>0.441618</td>\n",
       "      <td>-0.167724</td>\n",
       "      <td>-0.268986</td>\n",
       "      <td>0.031880</td>\n",
       "      <td>-0.292745</td>\n",
       "      <td>1.000000</td>\n",
       "    </tr>\n",
       "  </tbody>\n",
       "</table>\n",
       "</div>"
      ],
      "text/plain": [
       "            Age       TSH        T3       TT4       T4u       FTI     class\n",
       "Age    1.000000 -0.033569 -0.224286 -0.050343 -0.155124  0.040092 -0.008215\n",
       "TSH   -0.033569  1.000000 -0.155681 -0.259671  0.066218 -0.295188  0.441618\n",
       "T3    -0.224286 -0.155681  1.000000  0.514505  0.424036  0.312070 -0.167724\n",
       "TT4   -0.050343 -0.259671  0.514505  1.000000  0.431904  0.781832 -0.268986\n",
       "T4u   -0.155124  0.066218  0.424036  0.431904  1.000000 -0.167147  0.031880\n",
       "FTI    0.040092 -0.295188  0.312070  0.781832 -0.167147  1.000000 -0.292745\n",
       "class -0.008215  0.441618 -0.167724 -0.268986  0.031880 -0.292745  1.000000"
      ]
     },
     "execution_count": 95,
     "metadata": {},
     "output_type": "execute_result"
    }
   ],
   "source": [
    "## YOUR CODE HERE\n",
    "\n",
    "dataset.corr()"
   ]
  },
  {
   "cell_type": "markdown",
   "metadata": {
    "colab_type": "text",
    "id": "scfm6AEv3YIJ"
   },
   "source": [
    "Convert the class feature to numeric so we can also see the correlations it has with the numeric features, and check the correlation again."
   ]
  },
  {
   "cell_type": "code",
   "execution_count": 96,
   "metadata": {
    "colab": {},
    "colab_type": "code",
    "id": "2bGleemH3o3b"
   },
   "outputs": [],
   "source": [
    "# import pandas as pd\n",
    "### Your code here\n"
   ]
  },
  {
   "cell_type": "markdown",
   "metadata": {
    "colab_type": "text",
    "id": "tp4yO5kUGd3L"
   },
   "source": [
    "Let's do some further visual analysis using a new module called seaborn. Explore its incredible versatility and diversity with data visualization here: https://seaborn.pydata.org/"
   ]
  },
  {
   "cell_type": "code",
   "execution_count": 97,
   "metadata": {
    "colab": {},
    "colab_type": "code",
    "id": "JzkaBa64aXzb"
   },
   "outputs": [],
   "source": [
    "import seaborn as sns\n",
    "# sns.pairplot(copy)"
   ]
  },
  {
   "cell_type": "markdown",
   "metadata": {
    "colab_type": "text",
    "id": "mvW7_0aWFSEm"
   },
   "source": [
    "OK! I think we're ready to create and select some supervised learning models. To get the ball rolling, select Age and Sex as our explanatory features (and class as the target feature, obviously)."
   ]
  },
  {
   "cell_type": "code",
   "execution_count": 98,
   "metadata": {
    "colab": {},
    "colab_type": "code",
    "id": "f4w288do66Dx"
   },
   "outputs": [],
   "source": [
    "# dataset.describe()\n",
    "numeric_columns.append('class')"
   ]
  },
  {
   "cell_type": "markdown",
   "metadata": {
    "colab_type": "text",
    "id": "woDjZ7Zn66D0"
   },
   "source": [
    "Now let's take a look at our categorical columns!"
   ]
  },
  {
   "cell_type": "code",
   "execution_count": 99,
   "metadata": {
    "colab": {},
    "colab_type": "code",
    "id": "cdAFsdGk66D1"
   },
   "outputs": [
    {
     "name": "stdout",
     "output_type": "stream",
     "text": [
      "['Age', 'TSH', 'T3', 'TT4', 'T4u', 'FTI', 'class']\n",
      "['Sex', 'On thyroxine', 'query on thyroxine', 'on antithyroid medication', 'sick', 'pregnant', 'thyroid surgery', 'I131 treatment', 'query hypothyroid', 'query hyperthyroid', 'lithium', 'goitre', 'tumor', 'psych', 'TSH measured', 'T3 measured', 'TT4 measured', 'T4U measured', 'FTI measured', 'TBG measured', 'referral source']\n",
      "       Age Sex On thyroxine query on thyroxine on antithyroid medication sick  \\\n",
      "0     41.0   F            f                  f                         f    f   \n",
      "1     23.0   F            f                  f                         f    f   \n",
      "2     46.0   M            f                  f                         f    f   \n",
      "3     70.0   F            t                  f                         f    f   \n",
      "4     70.0   F            f                  f                         f    f   \n",
      "...    ...  ..          ...                ...                       ...  ...   \n",
      "2795  70.0   M            f                  f                         f    f   \n",
      "2796  73.0   M            f                  t                         f    f   \n",
      "2797  75.0   M            f                  f                         f    f   \n",
      "2798  60.0   F            f                  f                         f    f   \n",
      "2799  81.0   F            f                  f                         f    f   \n",
      "\n",
      "     pregnant thyroid surgery I131 treatment query hypothyroid  ...  \\\n",
      "0           f               f              f                 f  ...   \n",
      "1           f               f              f                 f  ...   \n",
      "2           f               f              f                 f  ...   \n",
      "3           f               f              f                 f  ...   \n",
      "4           f               f              f                 f  ...   \n",
      "...       ...             ...            ...               ...  ...   \n",
      "2795        f               f              f                 f  ...   \n",
      "2796        f               f              f                 f  ...   \n",
      "2797        f               f              f                 f  ...   \n",
      "2798        f               f              f                 f  ...   \n",
      "2799        f               f              f                 f  ...   \n",
      "\n",
      "     T3 measured   T3 TT4 measured    TT4 T4U measured   T4u  FTI measured  \\\n",
      "0              t  2.5            t  125.0            t  1.14             t   \n",
      "1              t  2.0            t  102.0            f  0.98             f   \n",
      "2              f  2.0            t  109.0            t  0.91             t   \n",
      "3              t  1.9            t  175.0            f  0.98             f   \n",
      "4              t  1.2            t   61.0            t  0.87             t   \n",
      "...          ...  ...          ...    ...          ...   ...           ...   \n",
      "2795           f  2.0            t  155.0            t  1.05             t   \n",
      "2796           t  0.7            t   63.0            t  0.88             t   \n",
      "2797           f  2.0            t  147.0            t  0.80             t   \n",
      "2798           f  2.0            t  100.0            t  0.83             t   \n",
      "2799           t  1.5            t  114.0            t  0.99             t   \n",
      "\n",
      "        FTI  referral source class  \n",
      "0     109.0             SVHC     0  \n",
      "1     107.0            other     0  \n",
      "2     120.0            other     0  \n",
      "3     107.0            other     0  \n",
      "4      70.0              SVI     0  \n",
      "...     ...              ...   ...  \n",
      "2795  148.0              SVI     0  \n",
      "2796   72.0            other     0  \n",
      "2797  183.0            other     0  \n",
      "2798  121.0            other     0  \n",
      "2799  115.0              SVI     0  \n",
      "\n",
      "[2690 rows x 27 columns]\n"
     ]
    }
   ],
   "source": [
    "## YOUR CODE HERE\n",
    "\n",
    "# del numerical_columns\n",
    "# numeric_columns.append('class')\n",
    "\n",
    "categorical_columns=[]\n",
    "def generate_categorical_columns():\n",
    "    categorical_columns = []\n",
    "    for i in dataset.columns:\n",
    "        if i not in numeric_columns:\n",
    "            categorical_columns.append(i)\n",
    "    print(numeric_columns)\n",
    "    print(categorical_columns)\n",
    "\n",
    "generate_categorical_columns()\n",
    "\n",
    "# dataset[categorical_columns].describe()\n",
    "dataset=dataset.drop('TBG measured', axis=1)\n",
    "print(dataset)"
   ]
  },
  {
   "cell_type": "markdown",
   "metadata": {
    "colab_type": "text",
    "id": "KgsY8rB-66D4"
   },
   "source": [
    "Uh oh... we have several features that are non-informative (they only have a single value).  We probably didn't notice this before because there were still '?' values in there, or perhaps when we threw out that 30% of our data we got rid of some variation in these features.  Let's just drop those columns."
   ]
  },
  {
   "cell_type": "code",
   "execution_count": 100,
   "metadata": {
    "colab": {},
    "colab_type": "code",
    "id": "eflGu1bc66D5"
   },
   "outputs": [],
   "source": [
    "## YOUR CODE HERE"
   ]
  },
  {
   "cell_type": "markdown",
   "metadata": {
    "colab_type": "text",
    "id": "WfYseHzu66D7"
   },
   "source": [
    "We can convert categorical columns (i.e., True/False or Male/Female) into indicator values (0,1) using a pretty nifty feature: [pandas.get_dummies()](https://pandas.pydata.org/pandas-docs/version/0.22/generated/pandas.get_dummies.html).  We can convert categorical columns (i.e., True/False or Male/Female) into indicator values (0,1) using a pretty nifty feature: [pandas.get_dummies()](https://pandas.pydata.org/pandas-docs/version/0.22/generated/pandas.get_dummies.html).  "
   ]
  },
  {
   "cell_type": "code",
   "execution_count": 101,
   "metadata": {
    "colab": {},
    "colab_type": "code",
    "id": "3zY7Zhnp66D8"
   },
   "outputs": [
    {
     "name": "stdout",
     "output_type": "stream",
     "text": [
      "       Age   TSH   T3    TT4   T4u    FTI  class  Sex_M  On thyroxine_t  \\\n",
      "0     41.0  1.30  2.5  125.0  1.14  109.0      0      0               0   \n",
      "1     23.0  4.10  2.0  102.0  0.98  107.0      0      0               0   \n",
      "2     46.0  0.98  2.0  109.0  0.91  120.0      0      1               0   \n",
      "3     70.0  0.16  1.9  175.0  0.98  107.0      0      0               1   \n",
      "4     70.0  0.72  1.2   61.0  0.87   70.0      0      0               0   \n",
      "...    ...   ...  ...    ...   ...    ...    ...    ...             ...   \n",
      "2795  70.0  2.70  2.0  155.0  1.05  148.0      0      1               0   \n",
      "2796  73.0  1.40  0.7   63.0  0.88   72.0      0      1               0   \n",
      "2797  75.0  1.40  2.0  147.0  0.80  183.0      0      1               0   \n",
      "2798  60.0  1.40  2.0  100.0  0.83  121.0      0      0               0   \n",
      "2799  81.0  1.20  1.5  114.0  0.99  115.0      0      0               0   \n",
      "\n",
      "      query on thyroxine_t  ...  psych_t  TSH measured_t  T3 measured_t  \\\n",
      "0                        0  ...        0               1              1   \n",
      "1                        0  ...        0               1              1   \n",
      "2                        0  ...        0               1              0   \n",
      "3                        0  ...        0               1              1   \n",
      "4                        0  ...        0               1              1   \n",
      "...                    ...  ...      ...             ...            ...   \n",
      "2795                     0  ...        0               1              0   \n",
      "2796                     1  ...        0               0              1   \n",
      "2797                     0  ...        0               0              0   \n",
      "2798                     0  ...        0               1              0   \n",
      "2799                     0  ...        0               1              1   \n",
      "\n",
      "      TT4 measured_t  T4U measured_t  FTI measured_t  referral source_SVHC  \\\n",
      "0                  1               1               1                     1   \n",
      "1                  1               0               0                     0   \n",
      "2                  1               1               1                     0   \n",
      "3                  1               0               0                     0   \n",
      "4                  1               1               1                     0   \n",
      "...              ...             ...             ...                   ...   \n",
      "2795               1               1               1                     0   \n",
      "2796               1               1               1                     0   \n",
      "2797               1               1               1                     0   \n",
      "2798               1               1               1                     0   \n",
      "2799               1               1               1                     0   \n",
      "\n",
      "      referral source_SVHD  referral source_SVI  referral source_other  \n",
      "0                        0                    0                      0  \n",
      "1                        0                    0                      1  \n",
      "2                        0                    0                      1  \n",
      "3                        0                    0                      1  \n",
      "4                        0                    1                      0  \n",
      "...                    ...                  ...                    ...  \n",
      "2795                     0                    1                      0  \n",
      "2796                     0                    0                      1  \n",
      "2797                     0                    0                      1  \n",
      "2798                     0                    0                      1  \n",
      "2799                     0                    1                      0  \n",
      "\n",
      "[2690 rows x 30 columns]\n"
     ]
    }
   ],
   "source": [
    "## YOUR CODE HERE\n",
    "\n",
    "# print(dataset.columns)\n",
    "# print(pd.get_dummies(dataset, drop_first=True).columns)\n",
    "\n",
    "dataset = pd.get_dummies(dataset, drop_first=True)\n",
    "print(dataset)\n"
   ]
  },
  {
   "cell_type": "markdown",
   "metadata": {
    "colab_type": "text",
    "id": "JXMQ9UaKqyha"
   },
   "source": [
    "## Model training and selection"
   ]
  },
  {
   "cell_type": "markdown",
   "metadata": {
    "colab_type": "text",
    "id": "Mon3ih88tW8y"
   },
   "source": [
    "Let's use get_dummies on the categorical variables (but not the class value!) to view the column names to select some for our model."
   ]
  },
  {
   "cell_type": "code",
   "execution_count": 102,
   "metadata": {
    "colab": {},
    "colab_type": "code",
    "id": "1NqvPYi6itkH"
   },
   "outputs": [],
   "source": [
    "### Your code here"
   ]
  },
  {
   "cell_type": "markdown",
   "metadata": {
    "colab_type": "text",
    "id": "4yEeqjv19hCX"
   },
   "source": [
    "All right, let's now split our data into training and testing in an 80-20 split. For consistency, let's all use a seed of 8675309."
   ]
  },
  {
   "cell_type": "code",
   "execution_count": 103,
   "metadata": {
    "colab": {},
    "colab_type": "code",
    "id": "GQqlCTGntXCX"
   },
   "outputs": [],
   "source": [
    "from sklearn.model_selection import train_test_split\n",
    "\n",
    "## Your code here\n",
    "\n",
    "feature_names=[]\n",
    "for i in dataset.columns:\n",
    "    if(i != 'class'):\n",
    "        feature_names.append(i);\n",
    "X_train, X_val, y_train, y_val = train_test_split(dataset[feature_names], dataset['class'], test_size=0.5, random_state=998244353)"
   ]
  },
  {
   "cell_type": "markdown",
   "metadata": {
    "colab_type": "text",
    "id": "6KGUCXBE-OFy"
   },
   "source": [
    "For reusability, let's make a logistic regression function that will take our training and testing data as arguments. Inside the function, build a model on your training data, fit it with your training class data, and return a list of your predictions."
   ]
  },
  {
   "cell_type": "code",
   "execution_count": 104,
   "metadata": {
    "colab": {},
    "colab_type": "code",
    "id": "DawvoHd7lnG9"
   },
   "outputs": [],
   "source": [
    "from sklearn import metrics\n",
    "from sklearn.linear_model import LogisticRegression\n",
    "from sklearn.metrics import accuracy_score\n",
    "\n",
    "def log_reg(train_X,train_Y,test_X,test_Y):\n",
    "\n",
    "    ### Your code here\n",
    "    \n",
    "    model = LogisticRegression()\n",
    "    model.fit(train_X, train_Y)\n",
    "    # print(\"Training Score\", accuracy_score(train_Y, model.predict(train_X)))\n",
    "    # print(\"Test Score\", accuracy_score(test_Y, model.predict(test_X)))\n",
    "    return model\n",
    "\n",
    "#print(feature_names)\n",
    "# log_reg(X_train, y_train, X_val, y_val)"
   ]
  },
  {
   "cell_type": "markdown",
   "metadata": {
    "colab_type": "text",
    "id": "JR8xu_VVsygN"
   },
   "source": [
    "Fantastic, we have just built a logistic regression model! Let's go see how well it performs."
   ]
  },
  {
   "cell_type": "markdown",
   "metadata": {
    "colab_type": "text",
    "id": "gAz096POwSRJ"
   },
   "source": [
    "### Model evaluation"
   ]
  },
  {
   "cell_type": "markdown",
   "metadata": {
    "colab_type": "text",
    "id": "570duVNhrTZh"
   },
   "source": [
    "To start, let's establish the baseline performance. This is important because it provides a starting point of comparison for later evaluation methods, like accuracy.\n",
    "\n",
    "A good baseline model to use is the Zero Rule algorithm. In classification problems, it simply predicts the class value with the greatest number of instances every time."
   ]
  },
  {
   "cell_type": "code",
   "execution_count": 105,
   "metadata": {
    "colab": {},
    "colab_type": "code",
    "id": "fwvqucK_Yg-2"
   },
   "outputs": [
    {
     "data": {
      "text/plain": [
       "0"
      ]
     },
     "execution_count": 105,
     "metadata": {},
     "output_type": "execute_result"
    }
   ],
   "source": [
    "\n",
    "def zero_rule_algorithm_classification(train,test):\n",
    "    ## Your code here\n",
    "    pv=y_train.unique()\n",
    "    c=-1\n",
    "    v=-1\n",
    "    for k in pv:\n",
    "        q = (y_train == k).sum()\n",
    "        if q > c:\n",
    "            v = k\n",
    "            c = q\n",
    "    return v\n",
    "\n",
    "\n",
    "zero_rule_algorithm_classification(X_train, X_val)"
   ]
  },
  {
   "cell_type": "markdown",
   "metadata": {
    "colab_type": "text",
    "id": "I_nExUgUYll5"
   },
   "source": [
    "Get your baseline performance by calculating the accuracy of your Zero Rule algorithm."
   ]
  },
  {
   "cell_type": "code",
   "execution_count": 106,
   "metadata": {
    "colab": {},
    "colab_type": "code",
    "id": "zs0M8OdtYidB"
   },
   "outputs": [
    {
     "name": "stdout",
     "output_type": "stream",
     "text": [
      "Training Score 0.9219330855018587\n",
      "Test Score 0.9211895910780669\n"
     ]
    }
   ],
   "source": [
    "## Your code here\n",
    "\n",
    "print(\"Training Score\", accuracy_score(y_train, [0]*len(y_train)))\n",
    "print(\"Test Score\", accuracy_score(y_val, [0]*len(y_val)))"
   ]
  },
  {
   "cell_type": "markdown",
   "metadata": {
    "colab_type": "text",
    "id": "WksirqfT5Ecw"
   },
   "source": [
    "So maybe accuracy isn't the best performance measure for this dataset. As you've seen already, even when the models predict \"negative\" for all the records, we could already achieve a ~92% accuracy. However, that also implies we incorrectly predicted 100% of the positive cases, which in the context of this problem, is fatal.\n",
    "\n",
    "Thankfully, it isn't the only way to evaluate your model. Let's start by creating a confusion matrix using the logistic regression function you built earlier."
   ]
  },
  {
   "cell_type": "code",
   "execution_count": 107,
   "metadata": {
    "colab": {},
    "colab_type": "code",
    "id": "DSS7JdYjaBWh",
    "scrolled": false
   },
   "outputs": [
    {
     "data": {
      "image/png": "[encoded data removed]",
      "text/plain": [
       "<Figure size 1008x576 with 1 Axes>"
      ]
     },
     "metadata": {
      "needs_background": "light"
     },
     "output_type": "display_data"
    }
   ],
   "source": [
    "from sklearn.metrics import confusion_matrix\n",
    "from matplotlib import pyplot as plt\n",
    "from sklearn.neighbors import KNeighborsClassifier\n",
    "### Your code here\n",
    "\n",
    "## Confusion matrices\n",
    "\n",
    "## YOUR CODE HERE\n",
    "\n",
    "# still X_train, y_train, X_val, y_val\n",
    "\n",
    "# Copied (and modified) from Tutorial\n",
    "def plot_cmatrix(cm,labels=[0,1],title='Confusion Matrix'):\n",
    "  fig = plt.figure()\n",
    "  ax = fig.add_subplot(111)\n",
    "  cax = ax.matshow(cm,cmap='Reds')\n",
    "  plt.title('\\n'+title+'\\n', fontsize=20)\n",
    "  fig.colorbar(cax)\n",
    "  ax.set_xticklabels([''] + labels, fontsize=16)\n",
    "  ax.set_yticklabels([''] + labels, fontsize=16)\n",
    "  plt.xlabel('Predicted', fontsize=16)\n",
    "  plt.ylabel('True', fontsize=16)\n",
    "  plt.show()\n",
    "\n",
    "def solve_Metrics(model, X, y, scaled=False):\n",
    "    y_pred = model.predict(X)\n",
    "    \n",
    "    TP = ((y == 1) & (y_pred == 1)).sum()\n",
    "    TN = ((y == 0) & (y_pred == 0)).sum()\n",
    "    FP = ((y == 0) & (y_pred == 1)).sum()\n",
    "    FN = ((y == 1) & (y_pred == 0)).sum()\n",
    "    \n",
    "    print(\"Accuracy:\", accuracy_score(y, y_pred))\n",
    "    print(\"True Positive:\", TP)\n",
    "    print(\"True Negative:\", TN)\n",
    "    print(\"False Positive:\", FP)\n",
    "    print(\"False Negative:\", FN)\n",
    "    \n",
    "    plot_cmatrix([[TN, FP],[FN, TP]])\n",
    "    plot_cmatrix([[TN/(TN+FP), FP/(TN+FP)],[FN/(FN+TP), TP/(FN+TP)]], title=\"Normalized Confusion Matrix\")\n",
    "\n",
    "def plot_logreg():\n",
    "    model = log_reg(X_train[['TSH']], y_train, X_val[['TSH']], y_val);\n",
    "    print(\"Training\")\n",
    "    solve_Metrics(model, X_train[['TSH']], y_train)\n",
    "    print(\"Validation\")\n",
    "    solve_Metrics(model, X_val[['TSH']], y_val)\n",
    "\n",
    "def plot_knn():\n",
    "    model = KNeighborsClassifier(n_neighbors=5)\n",
    "    model.fit(X_train, y_train)\n",
    "    print(\"Training\")\n",
    "    solve_Metrics(model, X_train, y_train)\n",
    "    print(\"Validation\")\n",
    "    solve_Metrics(model, X_val, y_val)\n",
    "\n",
    "def plot_knn_2():\n",
    "    model = KNeighborsClassifier(n_neighbors=3)\n",
    "    main_feat = ['TSH']\n",
    "    X_train_copy = np.copy(X_train[main_feat])\n",
    "    y_train_copy = np.copy(y_train)\n",
    "    no_good_x = X_train_copy[y_train_copy == 1]\n",
    "    no_good_y = y_train_copy[y_train_copy == 1] # should be array full of ones\n",
    "    X_train_copy = np.concatenate([X_train_copy, no_good_x*0])\n",
    "    y_train_copy = np.concatenate([y_train_copy, no_good_y*0])\n",
    "    \n",
    "    model.fit(X_train_copy, y_train_copy)\n",
    "    print(\"Training\")\n",
    "    solve_Metrics(model, X_train[main_feat], y_train)\n",
    "    print(\"Validation\")\n",
    "    solve_Metrics(model, X_val[main_feat], y_val)\n",
    "    \n",
    "def plot_TSH():\n",
    "    main_feat = ['TSH', 'FTI']\n",
    "    plt.figure(figsize=(14, 8))\n",
    "    X_pos = X_train[(y_train == 1) & (X_train['TSH'] < 200)]\n",
    "    X_neg = X_train[(y_train == 0) & (X_train['TSH'] < 200)]\n",
    "    #plt.scatter(X_neg[main_feat[0]], X_neg[main_feat[1]], c=\"#00b00010\", s=64, marker='o')\n",
    "    #plt.scatter(X_pos[main_feat[0]], X_pos[main_feat[1]], c=\"#b00000a0\", s=64, marker='o')\n",
    "    \n",
    "    X_pos_M = X_pos[X_pos['Sex_M'] == 1]\n",
    "    X_pos_F = X_pos[X_pos['Sex_M'] == 0]\n",
    "    X_neg_M = X_neg[X_neg['Sex_M'] == 1]\n",
    "    X_neg_F = X_neg[X_neg['Sex_M'] == 0]\n",
    "    plt.scatter(X_neg_M[main_feat[0]], X_neg_M[main_feat[1]], c=\"#00b00030\", s=64, marker='x')\n",
    "    plt.scatter(X_neg_F[main_feat[0]], X_neg_F[main_feat[1]], c=\"#00b00030\", s=64, marker='o')\n",
    "    plt.scatter(X_pos_M[main_feat[0]], X_pos_M[main_feat[1]], c=\"#b00000b0\", s=64, marker='x')\n",
    "    plt.scatter(X_pos_F[main_feat[0]], X_pos_F[main_feat[1]], c=\"#b00000b0\", s=64, marker='o')\n",
    "    plt.xlabel(main_feat[0])\n",
    "    plt.ylabel(main_feat[1])\n",
    "    plt.show()\n",
    "\n",
    "# plot_logreg();\n",
    "# plot_knn_2();\n",
    "plot_TSH();\n"
   ]
  },
  {
   "cell_type": "code",
   "execution_count": 71,
   "metadata": {},
   "outputs": [
    {
     "name": "stdout",
     "output_type": "stream",
     "text": [
      "Training Accuracy is  97.99256505576209\n",
      "Accuracy: 0.9799256505576208\n",
      "True Positive: 103\n",
      "True Negative: 1215\n",
      "False Positive: 25\n",
      "False Negative: 2\n"
     ]
    },
    {
     "data": {
      "image/png": "[encoded data removed]",
      "text/plain": [
       "<Figure size 432x288 with 2 Axes>"
      ]
     },
     "metadata": {
      "needs_background": "light"
     },
     "output_type": "display_data"
    },
    {
     "data": {
      "image/png": "[encoded data removed]",
      "text/plain": [
       "<Figure size 432x288 with 2 Axes>"
      ]
     },
     "metadata": {
      "needs_background": "light"
     },
     "output_type": "display_data"
    },
    {
     "name": "stdout",
     "output_type": "stream",
     "text": [
      "Validation Accuracy is  98.14126394052045\n",
      "Accuracy: 0.9814126394052045\n",
      "True Positive: 106\n",
      "True Negative: 1214\n",
      "False Positive: 25\n",
      "False Negative: 0\n"
     ]
    },
    {
     "data": {
      "image/png": "[encoded data removed]",
      "text/plain": [
       "<Figure size 432x288 with 2 Axes>"
      ]
     },
     "metadata": {
      "needs_background": "light"
     },
     "output_type": "display_data"
    },
    {
     "data": {
      "image/png": "[encoded data removed]",
      "text/plain": [
       "<Figure size 432x288 with 2 Axes>"
      ]
     },
     "metadata": {
      "needs_background": "light"
     },
     "output_type": "display_data"
    }
   ],
   "source": [
    "from sklearn.tree import DecisionTreeClassifier\n",
    "from sklearn.ensemble import RandomForestClassifier\n",
    "from sklearn import tree\n",
    "import graphviz\n",
    "\n",
    "FinalModel=0\n",
    "def perform_decision_tree():\n",
    "    decision_tree = DecisionTreeClassifier(criterion = \"entropy\", random_state = None,\n",
    "                                  max_depth=1)  # minimum sample leafs is the minimum sample \n",
    "                                                                    # amount the leaf can have\n",
    "\n",
    "    # print(X_train.columns)\n",
    "    aspect = X_train.columns\n",
    "    # training/fitting the model with training data\n",
    "    decision_tree.fit(X_train[aspect], y_train)\n",
    "\n",
    "    #printing accuracy of testing & training data\n",
    "    y_train_pred=decision_tree.predict(X_train[aspect])\n",
    "    print(\"Training Accuracy is \", accuracy_score(y_train, y_train_pred)*100)\n",
    "    solve_Metrics(decision_tree, X_train[aspect], y_train)\n",
    "    \n",
    "    y_val_pred=decision_tree.predict(X_val[aspect])\n",
    "    print(\"Validation Accuracy is \", accuracy_score(y_val,y_val_pred)*100)\n",
    "    solve_Metrics(decision_tree, X_val[aspect], y_val)\n",
    "    \n",
    "    dot_data = tree.export_graphviz(decision_tree, out_file=None, filled=True)\n",
    "    graph = graphviz.Source(dot_data)\n",
    "    graph.view()\n",
    "    \n",
    "    global FinalModel\n",
    "    FinalModel = decision_tree\n",
    "\n",
    "perform_decision_tree()"
   ]
  },
  {
   "cell_type": "markdown",
   "metadata": {
    "colab_type": "text",
    "id": "z0JPOHmQn8N6"
   },
   "source": [
    "Hopefully you remember our discussion of the Area Under the Receiver Operator Curve metric. This can measure the accuracy of a test to discriminate diseased cases from normal cases.\n",
    "\n",
    "When you consider the results of a particular test in two populations, one population with a disease, the other population without the disease, you will rarely observe a perfect separation between the two groups. Hence, the overlapping areas in the diagram below (FN, FP).\n",
    "\n",
    "To review, on a Receiver Operating Characteristic (ROC) curve, the true positive rate is plotted in function of the false positive rate for different cut-off points. Each point on the ROC curve represents a sensitivity/specificity pair corresponding to a particular decision threshold. A test with perfect discrimination (no overlap in the two distributions) has a ROC curve that passes through the upper left corner. Therefore the closer the ROC curve is to the upper left corner, the higher the overall accuracy of the test.\n",
    "\n",
    "![alt text](https://www.medcalc.org/manual/_help/images/roc_intro1.png)\n",
    "\n",
    "\n",
    "\n"
   ]
  },
  {
   "cell_type": "markdown",
   "metadata": {
    "colab_type": "text",
    "id": "cvTWQTcycBEp"
   },
   "source": [
    "Now, to graph the AUROC curve, we will need to predict probabilities of choosing a specific class value rather than the class value itself. Make a new logistic regression model that does so."
   ]
  },
  {
   "cell_type": "code",
   "execution_count": null,
   "metadata": {
    "colab": {},
    "colab_type": "code",
    "id": "Ur0s4m3kg3H-"
   },
   "outputs": [],
   "source": [
    "from sklearn.linear_model import LogisticRegression\n",
    "\n",
    "### Your code here\n",
    "\n"
   ]
  },
  {
   "cell_type": "markdown",
   "metadata": {
    "colab_type": "text",
    "id": "Xm0yv6wmDnQz"
   },
   "source": [
    "Now calculate the area under the receiver operator curve with your predictions."
   ]
  },
  {
   "cell_type": "code",
   "execution_count": null,
   "metadata": {
    "colab": {},
    "colab_type": "code",
    "id": "0xRxhlqbcc-I"
   },
   "outputs": [],
   "source": [
    "from sklearn import metrics\n",
    "\n",
    "### Your code here"
   ]
  },
  {
   "cell_type": "markdown",
   "metadata": {
    "colab_type": "text",
    "id": "w3hnQOGUczOn"
   },
   "source": [
    "Now graph the ROC curve using matplotlib, fully labeled."
   ]
  },
  {
   "cell_type": "code",
   "execution_count": null,
   "metadata": {
    "colab": {},
    "colab_type": "code",
    "id": "JA-ieOGua55H"
   },
   "outputs": [],
   "source": [
    "import matplotlib.pyplot as plt\n",
    "### Your code here"
   ]
  },
  {
   "cell_type": "markdown",
   "metadata": {
    "colab_type": "text",
    "id": "5D4BtDZV6fxV"
   },
   "source": [
    "In conclusion, it looks like this model performed pretty bad. It's probably best to try out different columns or perhaps use a different model before we submit our model for scoring. Get creative!"
   ]
  },
  {
   "cell_type": "code",
   "execution_count": null,
   "metadata": {
    "colab": {},
    "colab_type": "code",
    "id": "cSdZEiLMTXdB"
   },
   "outputs": [],
   "source": [
    "## Your code here"
   ]
  },
  {
   "cell_type": "markdown",
   "metadata": {
    "colab_type": "text",
    "id": "5JW3myd8LHJy"
   },
   "source": [
    "## Submitting your Model"
   ]
  },
  {
   "cell_type": "markdown",
   "metadata": {
    "colab_type": "text",
    "id": "Wuexs1daLNBY"
   },
   "source": [
    "Once you believe to have found the best classifier, run your classifier on the test data and make a pickle file containing of your predictions contained a pandas dataframe.\n",
    "\n",
    "This pandas dataframe will contain three columns for your binary classifier (or 5 columns for the multiclass classifier): the first column should be your model's \"best guess\" for each patient (either 0 or 1, negative or positive) and the last two columns should be the probability the patient would be classified as either a 0 or 1.\n",
    "\n",
    "(see below for reference)"
   ]
  },
  {
   "cell_type": "code",
   "execution_count": 73,
   "metadata": {
    "colab": {},
    "colab_type": "code",
    "id": "GkZOEgg3m3g1"
   },
   "outputs": [
    {
     "ename": "ModuleNotFoundError",
     "evalue": "No module named 'google.colab'",
     "output_type": "error",
     "traceback": [
      "\u001b[0;31m---------------------------------------------------------------------------\u001b[0m",
      "\u001b[0;31mModuleNotFoundError\u001b[0m                       Traceback (most recent call last)",
      "\u001b[0;32m<ipython-input-73-b1f7c12eedc3>\u001b[0m in \u001b[0;36m<module>\u001b[0;34m\u001b[0m\n\u001b[1;32m      4\u001b[0m \u001b[0mprediction_pickle_path\u001b[0m \u001b[0;34m=\u001b[0m \u001b[0;34m'prediction_pickle.pkl'\u001b[0m\u001b[0;34m\u001b[0m\u001b[0;34m\u001b[0m\u001b[0m\n\u001b[1;32m      5\u001b[0m \u001b[0;34m\u001b[0m\u001b[0m\n\u001b[0;32m----> 6\u001b[0;31m \u001b[0;32mfrom\u001b[0m \u001b[0mgoogle\u001b[0m\u001b[0;34m.\u001b[0m\u001b[0mcolab\u001b[0m \u001b[0;32mimport\u001b[0m \u001b[0mfiles\u001b[0m\u001b[0;34m\u001b[0m\u001b[0;34m\u001b[0m\u001b[0m\n\u001b[0m\u001b[1;32m      7\u001b[0m \u001b[0;31m# Create an variable to pickle and open it in write mode\u001b[0m\u001b[0;34m\u001b[0m\u001b[0;34m\u001b[0m\u001b[0;34m\u001b[0m\u001b[0m\n\u001b[1;32m      8\u001b[0m \u001b[0mprediction_pickle\u001b[0m \u001b[0;34m=\u001b[0m \u001b[0mopen\u001b[0m\u001b[0;34m(\u001b[0m\u001b[0mprediction_pickle_path\u001b[0m\u001b[0;34m,\u001b[0m \u001b[0;34m'wb'\u001b[0m\u001b[0;34m)\u001b[0m\u001b[0;34m\u001b[0m\u001b[0;34m\u001b[0m\u001b[0m\n",
      "\u001b[0;31mModuleNotFoundError\u001b[0m: No module named 'google.colab'"
     ]
    }
   ],
   "source": [
    "#pickling example\n",
    "import pickle\n",
    "predictions=pd.DataFrame({\"guesses\":[0,1,0,1],\"prob_neg\":[.75,.15,.63,.20],\"prob_pos\":[.25,.85,.27,.80]})\n",
    "prediction_pickle_path = 'prediction_pickle.pkl'\n",
    "\n",
    "from google.colab import files\n",
    "# Create an variable to pickle and open it in write mode\n",
    "prediction_pickle = open(prediction_pickle_path, 'wb')\n",
    "pickle.dump(predictions, prediction_pickle)\n",
    "files.download(prediction_pickle_path)\n",
    "prediction_pickle.close()"
   ]
  },
  {
   "cell_type": "code",
   "execution_count": null,
   "metadata": {
    "colab": {},
    "colab_type": "code",
    "id": "Dj6_AB6LnjrW"
   },
   "outputs": [],
   "source": [
    "prediction_unpickle = open(prediction_pickle_path, 'rb')\n",
    " \n",
    "# load the unpickle object into a variable\n",
    "predictions = pickle.load(prediction_unpickle)\n",
    " \n",
    "print(predictions)"
   ]
  },
  {
   "cell_type": "markdown",
   "metadata": {
    "colab_type": "text",
    "id": "HgFVRWQzXFWl"
   },
   "source": [
    "We will compare your guesses with the true classifications to score your model using the AUC metric."
   ]
  },
  {
   "cell_type": "markdown",
   "metadata": {
    "colab_type": "text",
    "id": "GW27RtFNttQA"
   },
   "source": [
    "## Presenting your Model"
   ]
  },
  {
   "cell_type": "markdown",
   "metadata": {
    "colab_type": "text",
    "id": "K8A1npNnUYey"
   },
   "source": [
    "Finally, we would like you to be able to present your model to the class. Prepare a notebook with the following things:\n",
    "\n",
    "* **Features Chosen:** a list of the features used in your model, and an explanation of how you chose them.\n",
    "* **Type of Model:** an explanation of the model type, parameters used, and why.\n",
    "* **Evaluation:** at least one plot showing an evaluation of your model against a validation set. You can use a confusion matrix, AUROC, or another metric of your choice.\n",
    "\n",
    "Feel free to include one or two additional plots that describe your process and/or model if you think that would be helpful."
   ]
  },
  {
   "cell_type": "markdown",
   "metadata": {
    "colab_type": "text",
    "id": "w66lpbB6Qv_M"
   },
   "source": [
    "## Moving to the Next Level"
   ]
  },
  {
   "cell_type": "markdown",
   "metadata": {
    "colab_type": "text",
    "id": "X-HZ12lht_so"
   },
   "source": [
    "For those that finish early, remember how we converted the class values into the binary of \"negative\" and \"positive\"? Now try tackling the multiclass classifier (predicting the different types of positive hypothyroid cases instead of simply negative or positive)! \n",
    "\n",
    "The same rules apply!"
   ]
  }
 ],
 "metadata": {
  "colab": {
   "collapsed_sections": [],
   "name": "Copy of Challenge_Project_STUDENT.ipynb",
   "provenance": [],
   "toc_visible": true
  },
  "kernelspec": {
   "display_name": "Python 3",
   "language": "python",
   "name": "python3"
  },
  "language_info": {
   "codemirror_mode": {
    "name": "ipython",
    "version": 3
   },
   "file_extension": ".py",
   "mimetype": "text/x-python",
   "name": "python",
   "nbconvert_exporter": "python",
   "pygments_lexer": "ipython3",
   "version": "3.7.7"
  }
 },
 "nbformat": 4,
 "nbformat_minor": 1
}
